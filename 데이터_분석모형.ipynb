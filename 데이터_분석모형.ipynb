{
  "cells": [
    {
      "cell_type": "markdown",
      "metadata": {
        "id": "l8ccP5qhVtkj"
      },
      "source": [
        "# 패키지 및 데이터 임포트"
      ]
    },
    {
      "cell_type": "markdown",
      "metadata": {
        "id": "Lulhg6QsaRLa"
      },
      "source": [
        "데이터 출처: https://www.kaggle.com/loveall/appliances-energy-prediction"
      ]
    },
    {
      "cell_type": "code",
      "execution_count": null,
      "metadata": {
        "colab": {
          "base_uri": "https://localhost:8080/"
        },
        "id": "kGw8a68Twax8",
        "outputId": "455886c4-04e0-480e-d8ae-5146362c27ee"
      },
      "outputs": [
        {
          "output_type": "stream",
          "name": "stdout",
          "text": [
            "Looking in indexes: https://pypi.org/simple, https://us-python.pkg.dev/colab-wheels/public/simple/\n",
            "Collecting neuralprophet\n",
            "  Downloading neuralprophet-0.4.2-py3-none-any.whl (103 kB)\n",
            "\u001b[K     |████████████████████████████████| 103 kB 24.1 MB/s \n",
            "\u001b[?25hCollecting torch-lr-finder>=0.2.1\n",
            "  Downloading torch_lr_finder-0.2.1-py3-none-any.whl (11 kB)\n",
            "Requirement already satisfied: LunarCalendar>=0.0.9 in /usr/local/lib/python3.7/dist-packages (from neuralprophet) (0.0.9)\n",
            "Requirement already satisfied: python-dateutil>=2.8.0 in /usr/local/lib/python3.7/dist-packages (from neuralprophet) (2.8.2)\n",
            "Requirement already satisfied: holidays>=0.11.3.1 in /usr/local/lib/python3.7/dist-packages (from neuralprophet) (0.17)\n",
            "Requirement already satisfied: convertdate>=2.1.2 in /usr/local/lib/python3.7/dist-packages (from neuralprophet) (2.4.0)\n",
            "Requirement already satisfied: pandas>=1.0.4 in /usr/local/lib/python3.7/dist-packages (from neuralprophet) (1.3.5)\n",
            "Requirement already satisfied: numpy>=1.15.4 in /usr/local/lib/python3.7/dist-packages (from neuralprophet) (1.21.6)\n",
            "Requirement already satisfied: matplotlib>=2.0.0 in /usr/local/lib/python3.7/dist-packages (from neuralprophet) (3.2.2)\n",
            "Requirement already satisfied: plotly>=4.14.3 in /usr/local/lib/python3.7/dist-packages (from neuralprophet) (5.5.0)\n",
            "Requirement already satisfied: ipywidgets>=7.5.1 in /usr/local/lib/python3.7/dist-packages (from neuralprophet) (7.7.1)\n",
            "Collecting typing-extensions>=4.4.0\n",
            "  Downloading typing_extensions-4.4.0-py3-none-any.whl (26 kB)\n",
            "Requirement already satisfied: tqdm>=4.50.2 in /usr/local/lib/python3.7/dist-packages (from neuralprophet) (4.64.1)\n",
            "Requirement already satisfied: torch>=1.8.0 in /usr/local/lib/python3.7/dist-packages (from neuralprophet) (1.12.1+cu113)\n",
            "Requirement already satisfied: pymeeus<=1,>=0.3.13 in /usr/local/lib/python3.7/dist-packages (from convertdate>=2.1.2->neuralprophet) (0.5.11)\n",
            "Requirement already satisfied: korean-lunar-calendar in /usr/local/lib/python3.7/dist-packages (from holidays>=0.11.3.1->neuralprophet) (0.3.1)\n",
            "Requirement already satisfied: hijri-converter in /usr/local/lib/python3.7/dist-packages (from holidays>=0.11.3.1->neuralprophet) (2.2.4)\n",
            "Requirement already satisfied: ipython-genutils~=0.2.0 in /usr/local/lib/python3.7/dist-packages (from ipywidgets>=7.5.1->neuralprophet) (0.2.0)\n",
            "Requirement already satisfied: widgetsnbextension~=3.6.0 in /usr/local/lib/python3.7/dist-packages (from ipywidgets>=7.5.1->neuralprophet) (3.6.1)\n",
            "Requirement already satisfied: traitlets>=4.3.1 in /usr/local/lib/python3.7/dist-packages (from ipywidgets>=7.5.1->neuralprophet) (5.1.1)\n",
            "Requirement already satisfied: ipython>=4.0.0 in /usr/local/lib/python3.7/dist-packages (from ipywidgets>=7.5.1->neuralprophet) (7.9.0)\n",
            "Requirement already satisfied: jupyterlab-widgets>=1.0.0 in /usr/local/lib/python3.7/dist-packages (from ipywidgets>=7.5.1->neuralprophet) (3.0.3)\n",
            "Requirement already satisfied: ipykernel>=4.5.1 in /usr/local/lib/python3.7/dist-packages (from ipywidgets>=7.5.1->neuralprophet) (5.3.4)\n",
            "Requirement already satisfied: jupyter-client in /usr/local/lib/python3.7/dist-packages (from ipykernel>=4.5.1->ipywidgets>=7.5.1->neuralprophet) (6.1.12)\n",
            "Requirement already satisfied: tornado>=4.2 in /usr/local/lib/python3.7/dist-packages (from ipykernel>=4.5.1->ipywidgets>=7.5.1->neuralprophet) (6.0.4)\n",
            "Requirement already satisfied: pygments in /usr/local/lib/python3.7/dist-packages (from ipython>=4.0.0->ipywidgets>=7.5.1->neuralprophet) (2.6.1)\n",
            "Requirement already satisfied: setuptools>=18.5 in /usr/local/lib/python3.7/dist-packages (from ipython>=4.0.0->ipywidgets>=7.5.1->neuralprophet) (57.4.0)\n",
            "Collecting jedi>=0.10\n",
            "  Downloading jedi-0.18.2-py2.py3-none-any.whl (1.6 MB)\n",
            "\u001b[K     |████████████████████████████████| 1.6 MB 36.9 MB/s \n",
            "\u001b[?25hRequirement already satisfied: backcall in /usr/local/lib/python3.7/dist-packages (from ipython>=4.0.0->ipywidgets>=7.5.1->neuralprophet) (0.2.0)\n",
            "Requirement already satisfied: pexpect in /usr/local/lib/python3.7/dist-packages (from ipython>=4.0.0->ipywidgets>=7.5.1->neuralprophet) (4.8.0)\n",
            "Requirement already satisfied: pickleshare in /usr/local/lib/python3.7/dist-packages (from ipython>=4.0.0->ipywidgets>=7.5.1->neuralprophet) (0.7.5)\n",
            "Requirement already satisfied: decorator in /usr/local/lib/python3.7/dist-packages (from ipython>=4.0.0->ipywidgets>=7.5.1->neuralprophet) (4.4.2)\n",
            "Requirement already satisfied: prompt-toolkit<2.1.0,>=2.0.0 in /usr/local/lib/python3.7/dist-packages (from ipython>=4.0.0->ipywidgets>=7.5.1->neuralprophet) (2.0.10)\n",
            "Requirement already satisfied: parso<0.9.0,>=0.8.0 in /usr/local/lib/python3.7/dist-packages (from jedi>=0.10->ipython>=4.0.0->ipywidgets>=7.5.1->neuralprophet) (0.8.3)\n",
            "Requirement already satisfied: ephem>=3.7.5.3 in /usr/local/lib/python3.7/dist-packages (from LunarCalendar>=0.0.9->neuralprophet) (4.1.3)\n",
            "Requirement already satisfied: pytz in /usr/local/lib/python3.7/dist-packages (from LunarCalendar>=0.0.9->neuralprophet) (2022.6)\n",
            "Requirement already satisfied: kiwisolver>=1.0.1 in /usr/local/lib/python3.7/dist-packages (from matplotlib>=2.0.0->neuralprophet) (1.4.4)\n",
            "Requirement already satisfied: cycler>=0.10 in /usr/local/lib/python3.7/dist-packages (from matplotlib>=2.0.0->neuralprophet) (0.11.0)\n",
            "Requirement already satisfied: pyparsing!=2.0.4,!=2.1.2,!=2.1.6,>=2.0.1 in /usr/local/lib/python3.7/dist-packages (from matplotlib>=2.0.0->neuralprophet) (3.0.9)\n",
            "Requirement already satisfied: six in /usr/local/lib/python3.7/dist-packages (from plotly>=4.14.3->neuralprophet) (1.15.0)\n",
            "Requirement already satisfied: tenacity>=6.2.0 in /usr/local/lib/python3.7/dist-packages (from plotly>=4.14.3->neuralprophet) (8.1.0)\n",
            "Requirement already satisfied: wcwidth in /usr/local/lib/python3.7/dist-packages (from prompt-toolkit<2.1.0,>=2.0.0->ipython>=4.0.0->ipywidgets>=7.5.1->neuralprophet) (0.2.5)\n",
            "Requirement already satisfied: packaging in /usr/local/lib/python3.7/dist-packages (from torch-lr-finder>=0.2.1->neuralprophet) (21.3)\n",
            "Requirement already satisfied: notebook>=4.4.1 in /usr/local/lib/python3.7/dist-packages (from widgetsnbextension~=3.6.0->ipywidgets>=7.5.1->neuralprophet) (5.7.16)\n",
            "Requirement already satisfied: nbformat in /usr/local/lib/python3.7/dist-packages (from notebook>=4.4.1->widgetsnbextension~=3.6.0->ipywidgets>=7.5.1->neuralprophet) (5.7.0)\n",
            "Requirement already satisfied: jupyter-core>=4.4.0 in /usr/local/lib/python3.7/dist-packages (from notebook>=4.4.1->widgetsnbextension~=3.6.0->ipywidgets>=7.5.1->neuralprophet) (4.11.2)\n",
            "Requirement already satisfied: prometheus-client in /usr/local/lib/python3.7/dist-packages (from notebook>=4.4.1->widgetsnbextension~=3.6.0->ipywidgets>=7.5.1->neuralprophet) (0.15.0)\n",
            "Requirement already satisfied: jinja2<=3.0.0 in /usr/local/lib/python3.7/dist-packages (from notebook>=4.4.1->widgetsnbextension~=3.6.0->ipywidgets>=7.5.1->neuralprophet) (2.11.3)\n",
            "Requirement already satisfied: Send2Trash in /usr/local/lib/python3.7/dist-packages (from notebook>=4.4.1->widgetsnbextension~=3.6.0->ipywidgets>=7.5.1->neuralprophet) (1.8.0)\n",
            "Requirement already satisfied: nbconvert<6.0 in /usr/local/lib/python3.7/dist-packages (from notebook>=4.4.1->widgetsnbextension~=3.6.0->ipywidgets>=7.5.1->neuralprophet) (5.6.1)\n",
            "Requirement already satisfied: pyzmq>=17 in /usr/local/lib/python3.7/dist-packages (from notebook>=4.4.1->widgetsnbextension~=3.6.0->ipywidgets>=7.5.1->neuralprophet) (23.2.1)\n",
            "Requirement already satisfied: terminado>=0.8.1 in /usr/local/lib/python3.7/dist-packages (from notebook>=4.4.1->widgetsnbextension~=3.6.0->ipywidgets>=7.5.1->neuralprophet) (0.13.3)\n",
            "Requirement already satisfied: MarkupSafe>=0.23 in /usr/local/lib/python3.7/dist-packages (from jinja2<=3.0.0->notebook>=4.4.1->widgetsnbextension~=3.6.0->ipywidgets>=7.5.1->neuralprophet) (2.0.1)\n",
            "Requirement already satisfied: mistune<2,>=0.8.1 in /usr/local/lib/python3.7/dist-packages (from nbconvert<6.0->notebook>=4.4.1->widgetsnbextension~=3.6.0->ipywidgets>=7.5.1->neuralprophet) (0.8.4)\n",
            "Requirement already satisfied: testpath in /usr/local/lib/python3.7/dist-packages (from nbconvert<6.0->notebook>=4.4.1->widgetsnbextension~=3.6.0->ipywidgets>=7.5.1->neuralprophet) (0.6.0)\n",
            "Requirement already satisfied: defusedxml in /usr/local/lib/python3.7/dist-packages (from nbconvert<6.0->notebook>=4.4.1->widgetsnbextension~=3.6.0->ipywidgets>=7.5.1->neuralprophet) (0.7.1)\n",
            "Requirement already satisfied: entrypoints>=0.2.2 in /usr/local/lib/python3.7/dist-packages (from nbconvert<6.0->notebook>=4.4.1->widgetsnbextension~=3.6.0->ipywidgets>=7.5.1->neuralprophet) (0.4)\n",
            "Requirement already satisfied: bleach in /usr/local/lib/python3.7/dist-packages (from nbconvert<6.0->notebook>=4.4.1->widgetsnbextension~=3.6.0->ipywidgets>=7.5.1->neuralprophet) (5.0.1)\n",
            "Requirement already satisfied: pandocfilters>=1.4.1 in /usr/local/lib/python3.7/dist-packages (from nbconvert<6.0->notebook>=4.4.1->widgetsnbextension~=3.6.0->ipywidgets>=7.5.1->neuralprophet) (1.5.0)\n",
            "Requirement already satisfied: fastjsonschema in /usr/local/lib/python3.7/dist-packages (from nbformat->notebook>=4.4.1->widgetsnbextension~=3.6.0->ipywidgets>=7.5.1->neuralprophet) (2.16.2)\n",
            "Requirement already satisfied: importlib-metadata>=3.6 in /usr/local/lib/python3.7/dist-packages (from nbformat->notebook>=4.4.1->widgetsnbextension~=3.6.0->ipywidgets>=7.5.1->neuralprophet) (4.13.0)\n",
            "Requirement already satisfied: jsonschema>=2.6 in /usr/local/lib/python3.7/dist-packages (from nbformat->notebook>=4.4.1->widgetsnbextension~=3.6.0->ipywidgets>=7.5.1->neuralprophet) (4.3.3)\n",
            "Requirement already satisfied: zipp>=0.5 in /usr/local/lib/python3.7/dist-packages (from importlib-metadata>=3.6->nbformat->notebook>=4.4.1->widgetsnbextension~=3.6.0->ipywidgets>=7.5.1->neuralprophet) (3.10.0)\n",
            "Requirement already satisfied: pyrsistent!=0.17.0,!=0.17.1,!=0.17.2,>=0.14.0 in /usr/local/lib/python3.7/dist-packages (from jsonschema>=2.6->nbformat->notebook>=4.4.1->widgetsnbextension~=3.6.0->ipywidgets>=7.5.1->neuralprophet) (0.19.2)\n",
            "Requirement already satisfied: importlib-resources>=1.4.0 in /usr/local/lib/python3.7/dist-packages (from jsonschema>=2.6->nbformat->notebook>=4.4.1->widgetsnbextension~=3.6.0->ipywidgets>=7.5.1->neuralprophet) (5.10.0)\n",
            "Requirement already satisfied: attrs>=17.4.0 in /usr/local/lib/python3.7/dist-packages (from jsonschema>=2.6->nbformat->notebook>=4.4.1->widgetsnbextension~=3.6.0->ipywidgets>=7.5.1->neuralprophet) (22.1.0)\n",
            "Requirement already satisfied: ptyprocess in /usr/local/lib/python3.7/dist-packages (from terminado>=0.8.1->notebook>=4.4.1->widgetsnbextension~=3.6.0->ipywidgets>=7.5.1->neuralprophet) (0.7.0)\n",
            "Requirement already satisfied: webencodings in /usr/local/lib/python3.7/dist-packages (from bleach->nbconvert<6.0->notebook>=4.4.1->widgetsnbextension~=3.6.0->ipywidgets>=7.5.1->neuralprophet) (0.5.1)\n",
            "Installing collected packages: typing-extensions, jedi, torch-lr-finder, neuralprophet\n",
            "  Attempting uninstall: typing-extensions\n",
            "    Found existing installation: typing-extensions 4.1.1\n",
            "    Uninstalling typing-extensions-4.1.1:\n",
            "      Successfully uninstalled typing-extensions-4.1.1\n",
            "\u001b[31mERROR: pip's dependency resolver does not currently take into account all the packages that are installed. This behaviour is the source of the following dependency conflicts.\n",
            "thinc 8.1.5 requires typing-extensions<4.2.0,>=3.7.4.1; python_version < \"3.8\", but you have typing-extensions 4.4.0 which is incompatible.\n",
            "spacy 3.4.3 requires typing-extensions<4.2.0,>=3.7.4; python_version < \"3.8\", but you have typing-extensions 4.4.0 which is incompatible.\n",
            "confection 0.0.3 requires typing-extensions<4.2.0,>=3.7.4.1; python_version < \"3.8\", but you have typing-extensions 4.4.0 which is incompatible.\u001b[0m\n",
            "Successfully installed jedi-0.18.2 neuralprophet-0.4.2 torch-lr-finder-0.2.1 typing-extensions-4.4.0\n"
          ]
        }
      ],
      "source": [
        "! pip install neuralprophet"
      ]
    },
    {
      "cell_type": "code",
      "execution_count": null,
      "metadata": {
        "id": "yPNyAkuproao"
      },
      "outputs": [],
      "source": [
        "#패키지 임포트\n",
        "import pandas as pd\n",
        "from neuralprophet import NeuralProphet, set_log_level\n",
        "import plotly.express as px\n",
        "set_log_level(\"ERROR\")\n",
        "import numpy as np\n",
        "import matplotlib.pyplot as plt\n",
        "import seaborn as sns"
      ]
    },
    {
      "cell_type": "code",
      "execution_count": null,
      "metadata": {
        "colab": {
          "base_uri": "https://localhost:8080/"
        },
        "id": "m3WYCwA_UB1q",
        "outputId": "1deef741-840f-4219-a222-9e96df254dd2"
      },
      "outputs": [
        {
          "output_type": "stream",
          "name": "stdout",
          "text": [
            "Mounted at /content/drive\n"
          ]
        }
      ],
      "source": [
        "from google.colab import drive\n",
        "drive.mount('/content/drive')"
      ]
    },
    {
      "cell_type": "code",
      "execution_count": null,
      "metadata": {
        "id": "c7S6x3Rv6Kc0"
      },
      "outputs": [],
      "source": [
        "data = pd.read_excel('/content/drive/MyDrive/공모전/전처리결과.xlsx')"
      ]
    },
    {
      "cell_type": "code",
      "execution_count": null,
      "metadata": {
        "colab": {
          "base_uri": "https://localhost:8080/",
          "height": 206
        },
        "id": "jm4XU9jFaBUT",
        "outputId": "202b2bb9-5b15-475d-85b6-7c14e18923e2"
      },
      "outputs": [
        {
          "output_type": "execute_result",
          "data": {
            "text/plain": [
              "         Date    거리두기단계    누적확진자수       매출액\n",
              "27 2022-05-01 -0.154151  0.065728  0.077521\n",
              "28 2022-06-01  0.000000 -0.012992  0.088289\n",
              "29 2022-07-01  0.000000  0.132097  0.076199\n",
              "30 2022-08-01  0.000000  0.122126  0.100647\n",
              "31 2022-09-01  0.000000  0.017933  0.083335"
            ],
            "text/html": [
              "\n",
              "  <div id=\"df-947f53a7-fea1-4021-a839-421eee4dc2e9\">\n",
              "    <div class=\"colab-df-container\">\n",
              "      <div>\n",
              "<style scoped>\n",
              "    .dataframe tbody tr th:only-of-type {\n",
              "        vertical-align: middle;\n",
              "    }\n",
              "\n",
              "    .dataframe tbody tr th {\n",
              "        vertical-align: top;\n",
              "    }\n",
              "\n",
              "    .dataframe thead th {\n",
              "        text-align: right;\n",
              "    }\n",
              "</style>\n",
              "<table border=\"1\" class=\"dataframe\">\n",
              "  <thead>\n",
              "    <tr style=\"text-align: right;\">\n",
              "      <th></th>\n",
              "      <th>Date</th>\n",
              "      <th>거리두기단계</th>\n",
              "      <th>누적확진자수</th>\n",
              "      <th>매출액</th>\n",
              "    </tr>\n",
              "  </thead>\n",
              "  <tbody>\n",
              "    <tr>\n",
              "      <th>27</th>\n",
              "      <td>2022-05-01</td>\n",
              "      <td>-0.154151</td>\n",
              "      <td>0.065728</td>\n",
              "      <td>0.077521</td>\n",
              "    </tr>\n",
              "    <tr>\n",
              "      <th>28</th>\n",
              "      <td>2022-06-01</td>\n",
              "      <td>0.000000</td>\n",
              "      <td>-0.012992</td>\n",
              "      <td>0.088289</td>\n",
              "    </tr>\n",
              "    <tr>\n",
              "      <th>29</th>\n",
              "      <td>2022-07-01</td>\n",
              "      <td>0.000000</td>\n",
              "      <td>0.132097</td>\n",
              "      <td>0.076199</td>\n",
              "    </tr>\n",
              "    <tr>\n",
              "      <th>30</th>\n",
              "      <td>2022-08-01</td>\n",
              "      <td>0.000000</td>\n",
              "      <td>0.122126</td>\n",
              "      <td>0.100647</td>\n",
              "    </tr>\n",
              "    <tr>\n",
              "      <th>31</th>\n",
              "      <td>2022-09-01</td>\n",
              "      <td>0.000000</td>\n",
              "      <td>0.017933</td>\n",
              "      <td>0.083335</td>\n",
              "    </tr>\n",
              "  </tbody>\n",
              "</table>\n",
              "</div>\n",
              "      <button class=\"colab-df-convert\" onclick=\"convertToInteractive('df-947f53a7-fea1-4021-a839-421eee4dc2e9')\"\n",
              "              title=\"Convert this dataframe to an interactive table.\"\n",
              "              style=\"display:none;\">\n",
              "        \n",
              "  <svg xmlns=\"http://www.w3.org/2000/svg\" height=\"24px\"viewBox=\"0 0 24 24\"\n",
              "       width=\"24px\">\n",
              "    <path d=\"M0 0h24v24H0V0z\" fill=\"none\"/>\n",
              "    <path d=\"M18.56 5.44l.94 2.06.94-2.06 2.06-.94-2.06-.94-.94-2.06-.94 2.06-2.06.94zm-11 1L8.5 8.5l.94-2.06 2.06-.94-2.06-.94L8.5 2.5l-.94 2.06-2.06.94zm10 10l.94 2.06.94-2.06 2.06-.94-2.06-.94-.94-2.06-.94 2.06-2.06.94z\"/><path d=\"M17.41 7.96l-1.37-1.37c-.4-.4-.92-.59-1.43-.59-.52 0-1.04.2-1.43.59L10.3 9.45l-7.72 7.72c-.78.78-.78 2.05 0 2.83L4 21.41c.39.39.9.59 1.41.59.51 0 1.02-.2 1.41-.59l7.78-7.78 2.81-2.81c.8-.78.8-2.07 0-2.86zM5.41 20L4 18.59l7.72-7.72 1.47 1.35L5.41 20z\"/>\n",
              "  </svg>\n",
              "      </button>\n",
              "      \n",
              "  <style>\n",
              "    .colab-df-container {\n",
              "      display:flex;\n",
              "      flex-wrap:wrap;\n",
              "      gap: 12px;\n",
              "    }\n",
              "\n",
              "    .colab-df-convert {\n",
              "      background-color: #E8F0FE;\n",
              "      border: none;\n",
              "      border-radius: 50%;\n",
              "      cursor: pointer;\n",
              "      display: none;\n",
              "      fill: #1967D2;\n",
              "      height: 32px;\n",
              "      padding: 0 0 0 0;\n",
              "      width: 32px;\n",
              "    }\n",
              "\n",
              "    .colab-df-convert:hover {\n",
              "      background-color: #E2EBFA;\n",
              "      box-shadow: 0px 1px 2px rgba(60, 64, 67, 0.3), 0px 1px 3px 1px rgba(60, 64, 67, 0.15);\n",
              "      fill: #174EA6;\n",
              "    }\n",
              "\n",
              "    [theme=dark] .colab-df-convert {\n",
              "      background-color: #3B4455;\n",
              "      fill: #D2E3FC;\n",
              "    }\n",
              "\n",
              "    [theme=dark] .colab-df-convert:hover {\n",
              "      background-color: #434B5C;\n",
              "      box-shadow: 0px 1px 3px 1px rgba(0, 0, 0, 0.15);\n",
              "      filter: drop-shadow(0px 1px 2px rgba(0, 0, 0, 0.3));\n",
              "      fill: #FFFFFF;\n",
              "    }\n",
              "  </style>\n",
              "\n",
              "      <script>\n",
              "        const buttonEl =\n",
              "          document.querySelector('#df-947f53a7-fea1-4021-a839-421eee4dc2e9 button.colab-df-convert');\n",
              "        buttonEl.style.display =\n",
              "          google.colab.kernel.accessAllowed ? 'block' : 'none';\n",
              "\n",
              "        async function convertToInteractive(key) {\n",
              "          const element = document.querySelector('#df-947f53a7-fea1-4021-a839-421eee4dc2e9');\n",
              "          const dataTable =\n",
              "            await google.colab.kernel.invokeFunction('convertToInteractive',\n",
              "                                                     [key], {});\n",
              "          if (!dataTable) return;\n",
              "\n",
              "          const docLinkHtml = 'Like what you see? Visit the ' +\n",
              "            '<a target=\"_blank\" href=https://colab.research.google.com/notebooks/data_table.ipynb>data table notebook</a>'\n",
              "            + ' to learn more about interactive tables.';\n",
              "          element.innerHTML = '';\n",
              "          dataTable['output_type'] = 'display_data';\n",
              "          await google.colab.output.renderOutput(dataTable, element);\n",
              "          const docLink = document.createElement('div');\n",
              "          docLink.innerHTML = docLinkHtml;\n",
              "          element.appendChild(docLink);\n",
              "        }\n",
              "      </script>\n",
              "    </div>\n",
              "  </div>\n",
              "  "
            ]
          },
          "metadata": {},
          "execution_count": 65
        }
      ],
      "source": [
        "data.tail()"
      ]
    },
    {
      "cell_type": "code",
      "execution_count": null,
      "metadata": {
        "colab": {
          "base_uri": "https://localhost:8080/",
          "height": 300
        },
        "id": "7oUK6ovdOpOQ",
        "outputId": "38eab70c-3530-4cba-c242-e3f4587792be"
      },
      "outputs": [
        {
          "output_type": "execute_result",
          "data": {
            "text/plain": [
              "             거리두기단계     누적확진자수        매출액\n",
              "count  3.200000e+01  32.000000  32.000000\n",
              "mean  -2.081668e-17   0.414589   0.036716\n",
              "std    4.077894e-01   0.538481   0.075297\n",
              "min   -1.299283e+00  -0.012992  -0.145147\n",
              "25%    0.000000e+00   0.152606   0.005564\n",
              "50%    0.000000e+00   0.236717   0.055036\n",
              "75%    0.000000e+00   0.373880   0.084574\n",
              "max    1.119890e+00   2.748237   0.161514"
            ],
            "text/html": [
              "\n",
              "  <div id=\"df-d7c5e262-cc72-4b70-aecb-3064beafe7ba\">\n",
              "    <div class=\"colab-df-container\">\n",
              "      <div>\n",
              "<style scoped>\n",
              "    .dataframe tbody tr th:only-of-type {\n",
              "        vertical-align: middle;\n",
              "    }\n",
              "\n",
              "    .dataframe tbody tr th {\n",
              "        vertical-align: top;\n",
              "    }\n",
              "\n",
              "    .dataframe thead th {\n",
              "        text-align: right;\n",
              "    }\n",
              "</style>\n",
              "<table border=\"1\" class=\"dataframe\">\n",
              "  <thead>\n",
              "    <tr style=\"text-align: right;\">\n",
              "      <th></th>\n",
              "      <th>거리두기단계</th>\n",
              "      <th>누적확진자수</th>\n",
              "      <th>매출액</th>\n",
              "    </tr>\n",
              "  </thead>\n",
              "  <tbody>\n",
              "    <tr>\n",
              "      <th>count</th>\n",
              "      <td>3.200000e+01</td>\n",
              "      <td>32.000000</td>\n",
              "      <td>32.000000</td>\n",
              "    </tr>\n",
              "    <tr>\n",
              "      <th>mean</th>\n",
              "      <td>-2.081668e-17</td>\n",
              "      <td>0.414589</td>\n",
              "      <td>0.036716</td>\n",
              "    </tr>\n",
              "    <tr>\n",
              "      <th>std</th>\n",
              "      <td>4.077894e-01</td>\n",
              "      <td>0.538481</td>\n",
              "      <td>0.075297</td>\n",
              "    </tr>\n",
              "    <tr>\n",
              "      <th>min</th>\n",
              "      <td>-1.299283e+00</td>\n",
              "      <td>-0.012992</td>\n",
              "      <td>-0.145147</td>\n",
              "    </tr>\n",
              "    <tr>\n",
              "      <th>25%</th>\n",
              "      <td>0.000000e+00</td>\n",
              "      <td>0.152606</td>\n",
              "      <td>0.005564</td>\n",
              "    </tr>\n",
              "    <tr>\n",
              "      <th>50%</th>\n",
              "      <td>0.000000e+00</td>\n",
              "      <td>0.236717</td>\n",
              "      <td>0.055036</td>\n",
              "    </tr>\n",
              "    <tr>\n",
              "      <th>75%</th>\n",
              "      <td>0.000000e+00</td>\n",
              "      <td>0.373880</td>\n",
              "      <td>0.084574</td>\n",
              "    </tr>\n",
              "    <tr>\n",
              "      <th>max</th>\n",
              "      <td>1.119890e+00</td>\n",
              "      <td>2.748237</td>\n",
              "      <td>0.161514</td>\n",
              "    </tr>\n",
              "  </tbody>\n",
              "</table>\n",
              "</div>\n",
              "      <button class=\"colab-df-convert\" onclick=\"convertToInteractive('df-d7c5e262-cc72-4b70-aecb-3064beafe7ba')\"\n",
              "              title=\"Convert this dataframe to an interactive table.\"\n",
              "              style=\"display:none;\">\n",
              "        \n",
              "  <svg xmlns=\"http://www.w3.org/2000/svg\" height=\"24px\"viewBox=\"0 0 24 24\"\n",
              "       width=\"24px\">\n",
              "    <path d=\"M0 0h24v24H0V0z\" fill=\"none\"/>\n",
              "    <path d=\"M18.56 5.44l.94 2.06.94-2.06 2.06-.94-2.06-.94-.94-2.06-.94 2.06-2.06.94zm-11 1L8.5 8.5l.94-2.06 2.06-.94-2.06-.94L8.5 2.5l-.94 2.06-2.06.94zm10 10l.94 2.06.94-2.06 2.06-.94-2.06-.94-.94-2.06-.94 2.06-2.06.94z\"/><path d=\"M17.41 7.96l-1.37-1.37c-.4-.4-.92-.59-1.43-.59-.52 0-1.04.2-1.43.59L10.3 9.45l-7.72 7.72c-.78.78-.78 2.05 0 2.83L4 21.41c.39.39.9.59 1.41.59.51 0 1.02-.2 1.41-.59l7.78-7.78 2.81-2.81c.8-.78.8-2.07 0-2.86zM5.41 20L4 18.59l7.72-7.72 1.47 1.35L5.41 20z\"/>\n",
              "  </svg>\n",
              "      </button>\n",
              "      \n",
              "  <style>\n",
              "    .colab-df-container {\n",
              "      display:flex;\n",
              "      flex-wrap:wrap;\n",
              "      gap: 12px;\n",
              "    }\n",
              "\n",
              "    .colab-df-convert {\n",
              "      background-color: #E8F0FE;\n",
              "      border: none;\n",
              "      border-radius: 50%;\n",
              "      cursor: pointer;\n",
              "      display: none;\n",
              "      fill: #1967D2;\n",
              "      height: 32px;\n",
              "      padding: 0 0 0 0;\n",
              "      width: 32px;\n",
              "    }\n",
              "\n",
              "    .colab-df-convert:hover {\n",
              "      background-color: #E2EBFA;\n",
              "      box-shadow: 0px 1px 2px rgba(60, 64, 67, 0.3), 0px 1px 3px 1px rgba(60, 64, 67, 0.15);\n",
              "      fill: #174EA6;\n",
              "    }\n",
              "\n",
              "    [theme=dark] .colab-df-convert {\n",
              "      background-color: #3B4455;\n",
              "      fill: #D2E3FC;\n",
              "    }\n",
              "\n",
              "    [theme=dark] .colab-df-convert:hover {\n",
              "      background-color: #434B5C;\n",
              "      box-shadow: 0px 1px 3px 1px rgba(0, 0, 0, 0.15);\n",
              "      filter: drop-shadow(0px 1px 2px rgba(0, 0, 0, 0.3));\n",
              "      fill: #FFFFFF;\n",
              "    }\n",
              "  </style>\n",
              "\n",
              "      <script>\n",
              "        const buttonEl =\n",
              "          document.querySelector('#df-d7c5e262-cc72-4b70-aecb-3064beafe7ba button.colab-df-convert');\n",
              "        buttonEl.style.display =\n",
              "          google.colab.kernel.accessAllowed ? 'block' : 'none';\n",
              "\n",
              "        async function convertToInteractive(key) {\n",
              "          const element = document.querySelector('#df-d7c5e262-cc72-4b70-aecb-3064beafe7ba');\n",
              "          const dataTable =\n",
              "            await google.colab.kernel.invokeFunction('convertToInteractive',\n",
              "                                                     [key], {});\n",
              "          if (!dataTable) return;\n",
              "\n",
              "          const docLinkHtml = 'Like what you see? Visit the ' +\n",
              "            '<a target=\"_blank\" href=https://colab.research.google.com/notebooks/data_table.ipynb>data table notebook</a>'\n",
              "            + ' to learn more about interactive tables.';\n",
              "          element.innerHTML = '';\n",
              "          dataTable['output_type'] = 'display_data';\n",
              "          await google.colab.output.renderOutput(dataTable, element);\n",
              "          const docLink = document.createElement('div');\n",
              "          docLink.innerHTML = docLinkHtml;\n",
              "          element.appendChild(docLink);\n",
              "        }\n",
              "      </script>\n",
              "    </div>\n",
              "  </div>\n",
              "  "
            ]
          },
          "metadata": {},
          "execution_count": 66
        }
      ],
      "source": [
        "data.describe()"
      ]
    },
    {
      "cell_type": "markdown",
      "metadata": {
        "id": "GvnlOUSRVxly"
      },
      "source": [
        "# 데이터 전처리 및 모델 학습"
      ]
    },
    {
      "cell_type": "code",
      "execution_count": null,
      "metadata": {
        "colab": {
          "base_uri": "https://localhost:8080/"
        },
        "id": "2sTqAbG5A-dk",
        "outputId": "f610a514-a0fa-445b-ba66-3917e539dd61"
      },
      "outputs": [
        {
          "output_type": "execute_result",
          "data": {
            "text/plain": [
              "Index(['Date', '거리두기단계', '누적확진자수', '매출액'], dtype='object')"
            ]
          },
          "metadata": {},
          "execution_count": 5
        }
      ],
      "source": [
        "#데이터 칼럼 확인\n",
        "data.columns"
      ]
    },
    {
      "cell_type": "code",
      "execution_count": null,
      "metadata": {
        "id": "HvO8ipVnNAHk"
      },
      "outputs": [],
      "source": [
        "#시계열 및 종속변수 이름 변경\n",
        "data = data.rename(columns={\"Date\":\"ds\",\"매출액\":\"y\"})"
      ]
    },
    {
      "cell_type": "code",
      "source": [
        "x_col_list=['누적확진자수','거리두기단계'] # X변수 정의\n",
        "y_col_list=['y'] # Y변수 정의 \n",
        "\n",
        "X=data[x_col_list]\n",
        "Y=data[y_col_list]\n",
        "\n",
        "X_diff=X.diff()\n",
        "X_diff.columns=X.columns+'_diff'\n",
        "\n",
        "#X_diff2=X.diff(periods=2)\n",
        "#X_diff2.columns=X.columns+'_diff2'\n",
        "\n",
        "#Y변수들에 대한 lag 데이터 생성 (2 lag 까지만)\n",
        "Y_diff=Y.diff()\n",
        "Y_diff.columns=Y.columns+'_diff'\n",
        "\n",
        "#Y_diff2=Y.diff(periods=2)\n",
        "#Y_diff2.columns=Y.columns+'_diff2'\n",
        "\n",
        "#X데이터 결합\n",
        "#X=pd.concat([X,X_diff,X_diff2],axis=1)\n",
        "X=pd.concat([X,X_diff],axis=1)\n",
        "#Y데이터 결합\n",
        "#Y=pd.concat([Y,Y_diff,Y_diff2],axis=1)\n",
        "Y=pd.concat([Y,Y_diff],axis=1)\n",
        "#전체 데이터셋 생성\n",
        "data_pret=pd.concat([data['ds'][2:],X,Y],axis=1)\n",
        "data_pret=data_pret.reset_index(drop=True)\n",
        "data_pret=data_pret.dropna()\n"
      ],
      "metadata": {
        "id": "nfCeo0tAR8wI"
      },
      "execution_count": null,
      "outputs": []
    },
    {
      "cell_type": "code",
      "source": [
        "data_pret.head(5)"
      ],
      "metadata": {
        "colab": {
          "base_uri": "https://localhost:8080/",
          "height": 206
        },
        "id": "mxERwkhwT1uC",
        "outputId": "cf0ac86f-f435-429c-dca4-8f2a8dbb4e3c"
      },
      "execution_count": null,
      "outputs": [
        {
          "output_type": "execute_result",
          "data": {
            "text/plain": [
              "          ds    누적확진자수    거리두기단계  누적확진자수_diff  거리두기단계_diff         y    y_diff\n",
              "2 2020-04-01  0.241231  0.528578    -1.139202    -0.242128 -0.145147 -0.040392\n",
              "3 2020-05-01  0.392918 -1.299283     0.151688    -1.827861 -0.051623  0.093524\n",
              "4 2020-06-01  0.322547  0.000000    -0.070372     1.299283  0.052247  0.103870\n",
              "5 2020-07-01  0.270622  0.000000    -0.051924     0.000000  0.046239 -0.006008\n",
              "6 2020-08-01  0.861506  1.119890     0.590883     1.119890 -0.086165 -0.132404"
            ],
            "text/html": [
              "\n",
              "  <div id=\"df-719b2468-1a52-48ce-aa81-2d893e1ec055\">\n",
              "    <div class=\"colab-df-container\">\n",
              "      <div>\n",
              "<style scoped>\n",
              "    .dataframe tbody tr th:only-of-type {\n",
              "        vertical-align: middle;\n",
              "    }\n",
              "\n",
              "    .dataframe tbody tr th {\n",
              "        vertical-align: top;\n",
              "    }\n",
              "\n",
              "    .dataframe thead th {\n",
              "        text-align: right;\n",
              "    }\n",
              "</style>\n",
              "<table border=\"1\" class=\"dataframe\">\n",
              "  <thead>\n",
              "    <tr style=\"text-align: right;\">\n",
              "      <th></th>\n",
              "      <th>ds</th>\n",
              "      <th>누적확진자수</th>\n",
              "      <th>거리두기단계</th>\n",
              "      <th>누적확진자수_diff</th>\n",
              "      <th>거리두기단계_diff</th>\n",
              "      <th>y</th>\n",
              "      <th>y_diff</th>\n",
              "    </tr>\n",
              "  </thead>\n",
              "  <tbody>\n",
              "    <tr>\n",
              "      <th>2</th>\n",
              "      <td>2020-04-01</td>\n",
              "      <td>0.241231</td>\n",
              "      <td>0.528578</td>\n",
              "      <td>-1.139202</td>\n",
              "      <td>-0.242128</td>\n",
              "      <td>-0.145147</td>\n",
              "      <td>-0.040392</td>\n",
              "    </tr>\n",
              "    <tr>\n",
              "      <th>3</th>\n",
              "      <td>2020-05-01</td>\n",
              "      <td>0.392918</td>\n",
              "      <td>-1.299283</td>\n",
              "      <td>0.151688</td>\n",
              "      <td>-1.827861</td>\n",
              "      <td>-0.051623</td>\n",
              "      <td>0.093524</td>\n",
              "    </tr>\n",
              "    <tr>\n",
              "      <th>4</th>\n",
              "      <td>2020-06-01</td>\n",
              "      <td>0.322547</td>\n",
              "      <td>0.000000</td>\n",
              "      <td>-0.070372</td>\n",
              "      <td>1.299283</td>\n",
              "      <td>0.052247</td>\n",
              "      <td>0.103870</td>\n",
              "    </tr>\n",
              "    <tr>\n",
              "      <th>5</th>\n",
              "      <td>2020-07-01</td>\n",
              "      <td>0.270622</td>\n",
              "      <td>0.000000</td>\n",
              "      <td>-0.051924</td>\n",
              "      <td>0.000000</td>\n",
              "      <td>0.046239</td>\n",
              "      <td>-0.006008</td>\n",
              "    </tr>\n",
              "    <tr>\n",
              "      <th>6</th>\n",
              "      <td>2020-08-01</td>\n",
              "      <td>0.861506</td>\n",
              "      <td>1.119890</td>\n",
              "      <td>0.590883</td>\n",
              "      <td>1.119890</td>\n",
              "      <td>-0.086165</td>\n",
              "      <td>-0.132404</td>\n",
              "    </tr>\n",
              "  </tbody>\n",
              "</table>\n",
              "</div>\n",
              "      <button class=\"colab-df-convert\" onclick=\"convertToInteractive('df-719b2468-1a52-48ce-aa81-2d893e1ec055')\"\n",
              "              title=\"Convert this dataframe to an interactive table.\"\n",
              "              style=\"display:none;\">\n",
              "        \n",
              "  <svg xmlns=\"http://www.w3.org/2000/svg\" height=\"24px\"viewBox=\"0 0 24 24\"\n",
              "       width=\"24px\">\n",
              "    <path d=\"M0 0h24v24H0V0z\" fill=\"none\"/>\n",
              "    <path d=\"M18.56 5.44l.94 2.06.94-2.06 2.06-.94-2.06-.94-.94-2.06-.94 2.06-2.06.94zm-11 1L8.5 8.5l.94-2.06 2.06-.94-2.06-.94L8.5 2.5l-.94 2.06-2.06.94zm10 10l.94 2.06.94-2.06 2.06-.94-2.06-.94-.94-2.06-.94 2.06-2.06.94z\"/><path d=\"M17.41 7.96l-1.37-1.37c-.4-.4-.92-.59-1.43-.59-.52 0-1.04.2-1.43.59L10.3 9.45l-7.72 7.72c-.78.78-.78 2.05 0 2.83L4 21.41c.39.39.9.59 1.41.59.51 0 1.02-.2 1.41-.59l7.78-7.78 2.81-2.81c.8-.78.8-2.07 0-2.86zM5.41 20L4 18.59l7.72-7.72 1.47 1.35L5.41 20z\"/>\n",
              "  </svg>\n",
              "      </button>\n",
              "      \n",
              "  <style>\n",
              "    .colab-df-container {\n",
              "      display:flex;\n",
              "      flex-wrap:wrap;\n",
              "      gap: 12px;\n",
              "    }\n",
              "\n",
              "    .colab-df-convert {\n",
              "      background-color: #E8F0FE;\n",
              "      border: none;\n",
              "      border-radius: 50%;\n",
              "      cursor: pointer;\n",
              "      display: none;\n",
              "      fill: #1967D2;\n",
              "      height: 32px;\n",
              "      padding: 0 0 0 0;\n",
              "      width: 32px;\n",
              "    }\n",
              "\n",
              "    .colab-df-convert:hover {\n",
              "      background-color: #E2EBFA;\n",
              "      box-shadow: 0px 1px 2px rgba(60, 64, 67, 0.3), 0px 1px 3px 1px rgba(60, 64, 67, 0.15);\n",
              "      fill: #174EA6;\n",
              "    }\n",
              "\n",
              "    [theme=dark] .colab-df-convert {\n",
              "      background-color: #3B4455;\n",
              "      fill: #D2E3FC;\n",
              "    }\n",
              "\n",
              "    [theme=dark] .colab-df-convert:hover {\n",
              "      background-color: #434B5C;\n",
              "      box-shadow: 0px 1px 3px 1px rgba(0, 0, 0, 0.15);\n",
              "      filter: drop-shadow(0px 1px 2px rgba(0, 0, 0, 0.3));\n",
              "      fill: #FFFFFF;\n",
              "    }\n",
              "  </style>\n",
              "\n",
              "      <script>\n",
              "        const buttonEl =\n",
              "          document.querySelector('#df-719b2468-1a52-48ce-aa81-2d893e1ec055 button.colab-df-convert');\n",
              "        buttonEl.style.display =\n",
              "          google.colab.kernel.accessAllowed ? 'block' : 'none';\n",
              "\n",
              "        async function convertToInteractive(key) {\n",
              "          const element = document.querySelector('#df-719b2468-1a52-48ce-aa81-2d893e1ec055');\n",
              "          const dataTable =\n",
              "            await google.colab.kernel.invokeFunction('convertToInteractive',\n",
              "                                                     [key], {});\n",
              "          if (!dataTable) return;\n",
              "\n",
              "          const docLinkHtml = 'Like what you see? Visit the ' +\n",
              "            '<a target=\"_blank\" href=https://colab.research.google.com/notebooks/data_table.ipynb>data table notebook</a>'\n",
              "            + ' to learn more about interactive tables.';\n",
              "          element.innerHTML = '';\n",
              "          dataTable['output_type'] = 'display_data';\n",
              "          await google.colab.output.renderOutput(dataTable, element);\n",
              "          const docLink = document.createElement('div');\n",
              "          docLink.innerHTML = docLinkHtml;\n",
              "          element.appendChild(docLink);\n",
              "        }\n",
              "      </script>\n",
              "    </div>\n",
              "  </div>\n",
              "  "
            ]
          },
          "metadata": {},
          "execution_count": 10
        }
      ]
    },
    {
      "cell_type": "code",
      "execution_count": null,
      "metadata": {
        "id": "XW6gwCCJL4Qg",
        "colab": {
          "base_uri": "https://localhost:8080/"
        },
        "outputId": "7e3b320d-c63f-4d12-b214-70b71be3f875"
      },
      "outputs": [
        {
          "output_type": "execute_result",
          "data": {
            "text/plain": [
              "['누적확진자수', '거리두기단계', '누적확진자수_diff', '거리두기단계_diff', 'y_diff']"
            ]
          },
          "metadata": {},
          "execution_count": 8
        }
      ],
      "source": [
        "#독립변수 정의\n",
        "col_lst=data_pret.columns\n",
        "col_lst=col_lst.drop(['ds','y'])\n",
        "col_lst=list(col_lst)\n",
        "col_lst"
      ]
    },
    {
      "cell_type": "code",
      "execution_count": null,
      "metadata": {
        "id": "G8FQY30zLoUJ"
      },
      "outputs": [],
      "source": [
        "#train test split\n",
        "cutoff = \"2021-10-01\" #데이터 분할 기준\n",
        "train = data_pret[data_pret['ds']<cutoff]\n",
        "test = data_pret[data_pret['ds']>=cutoff]"
      ]
    },
    {
      "cell_type": "code",
      "source": [
        "m = NeuralProphet(\n",
        "    n_forecasts=10, \n",
        "    n_changepoints=3,\n",
        "    n_lags=1, #1시간 뒤 regressor 지연 반영\n",
        "    yearly_seasonality=30,\n",
        "    num_hidden_layers=16, #히든 레이어 수 설정\n",
        "    d_hidden=256, #은닉층 뉴런 설정\n",
        "    learning_rate=0.01, #학습률 설정\n",
        "    batch_size=4, #배치 사이즈 설정\n",
        "    epochs=200, #학습 횟수\n",
        "    drop_missing= True\n",
        ")\n",
        "\n",
        "m.add_seasonality(name='monthly', period=30.5, fourier_order=5)\n",
        "\n",
        "#독립 변인(변수) 추가 및 정규화\n",
        "m = m.add_lagged_regressor(names=col_lst,normalize=\"minmax\") \n",
        "\n",
        "#학습 수행\n",
        "metrics = m.fit(train, freq=\"M\", validation_df=test, progress='plot')\n"
      ],
      "metadata": {
        "colab": {
          "base_uri": "https://localhost:8080/"
        },
        "id": "R03ZxN8pcwEf",
        "outputId": "14e9e224-d97e-4d17-ea47-e6a788a61930"
      },
      "execution_count": null,
      "outputs": [
        {
          "output_type": "stream",
          "name": "stderr",
          "text": []
        }
      ]
    },
    {
      "cell_type": "code",
      "execution_count": null,
      "metadata": {
        "colab": {
          "base_uri": "https://localhost:8080/",
          "height": 143
        },
        "id": "0Wg1A4fdPp6q",
        "outputId": "82a25f43-0420-44c2-97a9-15d46dd10f87"
      },
      "outputs": [
        {
          "output_type": "execute_result",
          "data": {
            "text/plain": [
              "     SmoothL1Loss       MAE      RMSE          Loss  RegLoss  \\\n",
              "197  7.090314e-11  0.000002  0.000003  5.263707e-11      0.0   \n",
              "198  7.089681e-11  0.000002  0.000003  5.261571e-11      0.0   \n",
              "199  7.069932e-11  0.000002  0.000003  5.248194e-11      0.0   \n",
              "\n",
              "     SmoothL1Loss_val   MAE_val  RMSE_val  \n",
              "197          0.023366  0.042951  0.057914  \n",
              "198          0.023366  0.042951  0.057914  \n",
              "199          0.023366  0.042951  0.057914  "
            ],
            "text/html": [
              "\n",
              "  <div id=\"df-c432a036-d30e-4175-8ba3-7c7a9ab06cea\">\n",
              "    <div class=\"colab-df-container\">\n",
              "      <div>\n",
              "<style scoped>\n",
              "    .dataframe tbody tr th:only-of-type {\n",
              "        vertical-align: middle;\n",
              "    }\n",
              "\n",
              "    .dataframe tbody tr th {\n",
              "        vertical-align: top;\n",
              "    }\n",
              "\n",
              "    .dataframe thead th {\n",
              "        text-align: right;\n",
              "    }\n",
              "</style>\n",
              "<table border=\"1\" class=\"dataframe\">\n",
              "  <thead>\n",
              "    <tr style=\"text-align: right;\">\n",
              "      <th></th>\n",
              "      <th>SmoothL1Loss</th>\n",
              "      <th>MAE</th>\n",
              "      <th>RMSE</th>\n",
              "      <th>Loss</th>\n",
              "      <th>RegLoss</th>\n",
              "      <th>SmoothL1Loss_val</th>\n",
              "      <th>MAE_val</th>\n",
              "      <th>RMSE_val</th>\n",
              "    </tr>\n",
              "  </thead>\n",
              "  <tbody>\n",
              "    <tr>\n",
              "      <th>197</th>\n",
              "      <td>7.090314e-11</td>\n",
              "      <td>0.000002</td>\n",
              "      <td>0.000003</td>\n",
              "      <td>5.263707e-11</td>\n",
              "      <td>0.0</td>\n",
              "      <td>0.023366</td>\n",
              "      <td>0.042951</td>\n",
              "      <td>0.057914</td>\n",
              "    </tr>\n",
              "    <tr>\n",
              "      <th>198</th>\n",
              "      <td>7.089681e-11</td>\n",
              "      <td>0.000002</td>\n",
              "      <td>0.000003</td>\n",
              "      <td>5.261571e-11</td>\n",
              "      <td>0.0</td>\n",
              "      <td>0.023366</td>\n",
              "      <td>0.042951</td>\n",
              "      <td>0.057914</td>\n",
              "    </tr>\n",
              "    <tr>\n",
              "      <th>199</th>\n",
              "      <td>7.069932e-11</td>\n",
              "      <td>0.000002</td>\n",
              "      <td>0.000003</td>\n",
              "      <td>5.248194e-11</td>\n",
              "      <td>0.0</td>\n",
              "      <td>0.023366</td>\n",
              "      <td>0.042951</td>\n",
              "      <td>0.057914</td>\n",
              "    </tr>\n",
              "  </tbody>\n",
              "</table>\n",
              "</div>\n",
              "      <button class=\"colab-df-convert\" onclick=\"convertToInteractive('df-c432a036-d30e-4175-8ba3-7c7a9ab06cea')\"\n",
              "              title=\"Convert this dataframe to an interactive table.\"\n",
              "              style=\"display:none;\">\n",
              "        \n",
              "  <svg xmlns=\"http://www.w3.org/2000/svg\" height=\"24px\"viewBox=\"0 0 24 24\"\n",
              "       width=\"24px\">\n",
              "    <path d=\"M0 0h24v24H0V0z\" fill=\"none\"/>\n",
              "    <path d=\"M18.56 5.44l.94 2.06.94-2.06 2.06-.94-2.06-.94-.94-2.06-.94 2.06-2.06.94zm-11 1L8.5 8.5l.94-2.06 2.06-.94-2.06-.94L8.5 2.5l-.94 2.06-2.06.94zm10 10l.94 2.06.94-2.06 2.06-.94-2.06-.94-.94-2.06-.94 2.06-2.06.94z\"/><path d=\"M17.41 7.96l-1.37-1.37c-.4-.4-.92-.59-1.43-.59-.52 0-1.04.2-1.43.59L10.3 9.45l-7.72 7.72c-.78.78-.78 2.05 0 2.83L4 21.41c.39.39.9.59 1.41.59.51 0 1.02-.2 1.41-.59l7.78-7.78 2.81-2.81c.8-.78.8-2.07 0-2.86zM5.41 20L4 18.59l7.72-7.72 1.47 1.35L5.41 20z\"/>\n",
              "  </svg>\n",
              "      </button>\n",
              "      \n",
              "  <style>\n",
              "    .colab-df-container {\n",
              "      display:flex;\n",
              "      flex-wrap:wrap;\n",
              "      gap: 12px;\n",
              "    }\n",
              "\n",
              "    .colab-df-convert {\n",
              "      background-color: #E8F0FE;\n",
              "      border: none;\n",
              "      border-radius: 50%;\n",
              "      cursor: pointer;\n",
              "      display: none;\n",
              "      fill: #1967D2;\n",
              "      height: 32px;\n",
              "      padding: 0 0 0 0;\n",
              "      width: 32px;\n",
              "    }\n",
              "\n",
              "    .colab-df-convert:hover {\n",
              "      background-color: #E2EBFA;\n",
              "      box-shadow: 0px 1px 2px rgba(60, 64, 67, 0.3), 0px 1px 3px 1px rgba(60, 64, 67, 0.15);\n",
              "      fill: #174EA6;\n",
              "    }\n",
              "\n",
              "    [theme=dark] .colab-df-convert {\n",
              "      background-color: #3B4455;\n",
              "      fill: #D2E3FC;\n",
              "    }\n",
              "\n",
              "    [theme=dark] .colab-df-convert:hover {\n",
              "      background-color: #434B5C;\n",
              "      box-shadow: 0px 1px 3px 1px rgba(0, 0, 0, 0.15);\n",
              "      filter: drop-shadow(0px 1px 2px rgba(0, 0, 0, 0.3));\n",
              "      fill: #FFFFFF;\n",
              "    }\n",
              "  </style>\n",
              "\n",
              "      <script>\n",
              "        const buttonEl =\n",
              "          document.querySelector('#df-c432a036-d30e-4175-8ba3-7c7a9ab06cea button.colab-df-convert');\n",
              "        buttonEl.style.display =\n",
              "          google.colab.kernel.accessAllowed ? 'block' : 'none';\n",
              "\n",
              "        async function convertToInteractive(key) {\n",
              "          const element = document.querySelector('#df-c432a036-d30e-4175-8ba3-7c7a9ab06cea');\n",
              "          const dataTable =\n",
              "            await google.colab.kernel.invokeFunction('convertToInteractive',\n",
              "                                                     [key], {});\n",
              "          if (!dataTable) return;\n",
              "\n",
              "          const docLinkHtml = 'Like what you see? Visit the ' +\n",
              "            '<a target=\"_blank\" href=https://colab.research.google.com/notebooks/data_table.ipynb>data table notebook</a>'\n",
              "            + ' to learn more about interactive tables.';\n",
              "          element.innerHTML = '';\n",
              "          dataTable['output_type'] = 'display_data';\n",
              "          await google.colab.output.renderOutput(dataTable, element);\n",
              "          const docLink = document.createElement('div');\n",
              "          docLink.innerHTML = docLinkHtml;\n",
              "          element.appendChild(docLink);\n",
              "        }\n",
              "      </script>\n",
              "    </div>\n",
              "  </div>\n",
              "  "
            ]
          },
          "metadata": {},
          "execution_count": 66
        }
      ],
      "source": [
        "metrics.tail(3) "
      ]
    },
    {
      "cell_type": "code",
      "execution_count": null,
      "metadata": {
        "colab": {
          "base_uri": "https://localhost:8080/"
        },
        "id": "_GFuncEFoSoH",
        "outputId": "88d19118-c89f-4eab-8917-1addee09323a"
      },
      "outputs": [
        {
          "output_type": "stream",
          "name": "stdout",
          "text": [
            "SmoothL1Loss:  7.069932139724955e-11\n",
            "MAE(Train):  2.47173011302948e-06\n",
            "MAE(Test):  0.0429505929350853\n"
          ]
        }
      ],
      "source": [
        "#metric 확인\n",
        "print(\"SmoothL1Loss: \", metrics.SmoothL1Loss.tail(1).item())\n",
        "print(\"MAE(Train): \", metrics.MAE.tail(1).item())\n",
        "print(\"MAE(Test): \", metrics.MAE_val.tail(1).item())"
      ]
    },
    {
      "cell_type": "code",
      "execution_count": null,
      "metadata": {
        "colab": {
          "base_uri": "https://localhost:8080/",
          "height": 417
        },
        "id": "8EQ6mgn0Q2kF",
        "outputId": "bf02d927-5f3b-44a7-8422-4a78c646b31b"
      },
      "outputs": [
        {
          "output_type": "display_data",
          "data": {
            "text/html": [
              "<html>\n",
              "<head><meta charset=\"utf-8\" /></head>\n",
              "<body>\n",
              "    <div>            <script src=\"https://cdnjs.cloudflare.com/ajax/libs/mathjax/2.7.5/MathJax.js?config=TeX-AMS-MML_SVG\"></script><script type=\"text/javascript\">if (window.MathJax) {MathJax.Hub.Config({SVG: {font: \"STIX-Web\"}});}</script>                <script type=\"text/javascript\">window.PlotlyConfig = {MathJaxConfig: 'local'};</script>\n",
              "        <script src=\"https://cdn.plot.ly/plotly-2.8.3.min.js\"></script>                <div id=\"c8690596-c84d-446c-9b76-fe7e1e509fdc\" class=\"plotly-graph-div\" style=\"height:400px; width:800px;\"></div>            <script type=\"text/javascript\">                                    window.PLOTLYENV=window.PLOTLYENV || {};                                    if (document.getElementById(\"c8690596-c84d-446c-9b76-fe7e1e509fdc\")) {                    Plotly.newPlot(                        \"c8690596-c84d-446c-9b76-fe7e1e509fdc\",                        [{\"hovertemplate\":\"variable=MAE<br>index=%{x}<br>value=%{y}<extra></extra>\",\"legendgroup\":\"MAE\",\"line\":{\"color\":\"#636efa\",\"dash\":\"solid\"},\"marker\":{\"symbol\":\"circle\"},\"mode\":\"lines\",\"name\":\"MAE\",\"orientation\":\"v\",\"showlegend\":true,\"x\":[0,1,2,3,4,5,6,7,8,9,10,11,12,13,14,15,16,17,18,19,20,21,22,23,24,25,26,27,28,29,30,31,32,33,34,35,36,37,38,39,40,41,42,43,44,45,46,47,48,49,50,51,52,53,54,55,56,57,58,59,60,61,62,63,64,65,66,67,68,69,70,71,72,73,74,75,76,77,78,79,80,81,82,83,84,85,86,87,88,89,90,91,92,93,94,95,96,97,98,99,100,101,102,103,104,105,106,107,108,109,110,111,112,113,114,115,116,117,118,119,120,121,122,123,124,125,126,127,128,129,130,131,132,133,134,135,136,137,138,139,140,141,142,143,144,145,146,147,148,149,150,151,152,153,154,155,156,157,158,159,160,161,162,163,164,165,166,167,168,169,170,171,172,173,174,175,176,177,178,179,180,181,182,183,184,185,186,187,188,189,190,191,192,193,194,195,196,197,198,199],\"xaxis\":\"x\",\"y\":[0.5379649996757507,0.2974741607904434,0.26402953267097473,0.2046421319246292,0.1883825734257698,0.15059445053339005,0.14281940460205078,0.15254520624876022,0.20616566389799118,0.201006181538105,0.1840018779039383,0.18390201777219772,0.2201615571975708,0.19272488355636597,0.23733560740947723,0.23029039800167084,0.20536907017230988,0.28883109986782074,0.1934725120663643,0.23628755658864975,0.1686677262187004,0.15802158415317535,0.18810657411813736,0.1770670935511589,0.13984518870711327,0.1258915290236473,0.14380965009331703,0.1389365792274475,0.150444608181715,0.13800210505723953,0.19169141352176666,0.10404104553163052,0.07612629234790802,0.06266232021152973,0.04731682874262333,0.035574471578001976,0.02970596868544817,0.026351413689553738,0.025533444248139858,0.020654898136854172,0.023935367353260517,0.02007423434406519,0.019421079196035862,0.017753486055880785,0.014153630938380957,0.015253408811986446,0.014312211889773607,0.011489807162433863,0.015023425221443176,0.01089254254475236,0.011411369778215885,0.008692126721143723,0.012589482124894857,0.01100555993616581,0.010294705629348755,0.010414388962090015,0.007152366917580366,0.00636116461828351,0.006832829909399152,0.006111653987318277,0.006777968490496278,0.007309990702196956,0.007413200568407774,0.006955561926588416,0.004919645842164755,0.006959086982533336,0.005540762795135379,0.004439470358192921,0.004029486794024706,0.004474335699342191,0.004110945854336023,0.003375081345438957,0.0037301318952813745,0.002811505808494985,0.0026457541389390826,0.0025643246481195092,0.0017462206888012588,0.0016102450899779797,0.0015960255987010896,0.0012748014996759593,0.0012026875047013164,0.0008589438220951706,0.0008706990338396281,0.0009788191237021238,0.000849523872602731,0.0007013957074377686,0.0007037257892079651,0.0007785168709233403,0.0005531176866497844,0.0005085038865217939,0.0004166417638771236,0.0004652852221624926,0.00038033322198316455,0.000332485418766737,0.00022308789630187675,0.0003146136150462553,0.00035421960637904704,0.0003327962986077182,0.00026794718723976985,0.0003748441959032789,0.00031971270800568163,0.00020900368690490723,0.00023215822875499725,0.0002545010356698185,0.0001777159995981492,0.00015826634626137093,0.000189849641174078,0.0001462888867536094,8.968096153694205e-05,0.00014459928206633776,0.00012095458805561066,0.00011207619900233112,0.00013606762513518333,7.31227919459343e-05,9.237537233275361e-05,0.00010675974408513866,7.374733468168415e-05,9.111510735237971e-05,6.622448563575745e-05,6.21389590378385e-05,6.112838127592113e-05,3.231596201658249e-05,5.8494415497989394e-05,2.8113555345044006e-05,4.058871490997262e-05,3.5990774449601304e-05,3.379685767868068e-05,2.8004776140733156e-05,1.9940453967137728e-05,2.6515592253417708e-05,1.6202498045458924e-05,2.2803712454333436e-05,1.7202459275722504e-05,1.817643624235643e-05,1.9065476408286486e-05,1.6784481886134017e-05,1.660957877902547e-05,1.3738218513026368e-05,1.9818823602690827e-05,1.1057406481995713e-05,1.575332134962082e-05,1.0964181001327233e-05,1.096520554710878e-05,1.3157539342500968e-05,6.86822477291571e-06,1.2024585430481238e-05,8.874107152223587e-06,7.220357701953617e-06,1.0621827186696464e-05,6.987713277339935e-06,5.16790896654129e-06,7.621385066158837e-06,5.727540838051937e-06,4.565902145259315e-06,6.278697355810436e-06,5.404744115367066e-06,3.7673861470466363e-06,4.100892738279072e-06,3.985781290793966e-06,3.1602569379174383e-06,3.67509210263961e-06,4.462804781724117e-06,4.137866312703409e-06,2.869591185117315e-06,2.5298446644228534e-06,2.787355356304033e-06,2.7596020117925946e-06,2.3628585950064007e-06,2.259016014249937e-06,2.6598572731018066e-06,2.948567271232605e-06,3.0042604066693457e-06,2.6970170665663318e-06,2.3313798465096625e-06,2.2041612055545556e-06,2.1452084411066608e-06,2.1616929188894574e-06,2.1649525479006115e-06,2.160854592148098e-06,2.1492131168088235e-06,2.1495856117326184e-06,2.22157689222513e-06,2.2944062720853253e-06,2.322997943338123e-06,2.344697691114561e-06,2.359133304707939e-06,2.3323110553974402e-06,2.3318453941101325e-06,2.3470261112379376e-06,2.3648143496757257e-06,2.3265369009095593e-06,2.3288653210329358e-06,2.3455359041690826e-06,2.381950707786018e-06,2.4493783712387085e-06,2.5017186544573633e-06,2.4834647547322675e-06,2.475455403327942e-06,2.4743378617131384e-06,2.47173011302948e-06],\"yaxis\":\"y\",\"type\":\"scatter\"},{\"hovertemplate\":\"variable=MAE_val<br>index=%{x}<br>value=%{y}<extra></extra>\",\"legendgroup\":\"MAE_val\",\"line\":{\"color\":\"#EF553B\",\"dash\":\"solid\"},\"marker\":{\"symbol\":\"circle\"},\"mode\":\"lines\",\"name\":\"MAE_val\",\"orientation\":\"v\",\"showlegend\":true,\"x\":[0,1,2,3,4,5,6,7,8,9,10,11,12,13,14,15,16,17,18,19,20,21,22,23,24,25,26,27,28,29,30,31,32,33,34,35,36,37,38,39,40,41,42,43,44,45,46,47,48,49,50,51,52,53,54,55,56,57,58,59,60,61,62,63,64,65,66,67,68,69,70,71,72,73,74,75,76,77,78,79,80,81,82,83,84,85,86,87,88,89,90,91,92,93,94,95,96,97,98,99,100,101,102,103,104,105,106,107,108,109,110,111,112,113,114,115,116,117,118,119,120,121,122,123,124,125,126,127,128,129,130,131,132,133,134,135,136,137,138,139,140,141,142,143,144,145,146,147,148,149,150,151,152,153,154,155,156,157,158,159,160,161,162,163,164,165,166,167,168,169,170,171,172,173,174,175,176,177,178,179,180,181,182,183,184,185,186,187,188,189,190,191,192,193,194,195,196,197,198,199],\"xaxis\":\"x\",\"y\":[0.3370901942253113,0.2129620760679245,0.2273177206516266,0.2411264181137085,0.19760456681251526,0.20845603942871094,0.23457901179790497,0.2334882766008377,0.23301465809345245,0.2188616693019867,0.23641328513622284,0.2312048375606537,0.22409693896770477,0.35300976037979126,0.21854829788208008,0.21596649289131165,0.29981422424316406,0.19568724930286407,0.263498455286026,0.18474288284778595,0.23890939354896545,0.240666463971138,0.2229444533586502,0.1756906807422638,0.15984559059143066,0.20048463344573975,0.19680264592170715,0.10078601539134979,0.17151843011379242,0.17348308861255646,0.14827074110507965,0.10403095185756683,0.07091356813907623,0.06874783337116241,0.05716673284769058,0.05996714159846306,0.05621936172246933,0.04879171773791313,0.0507628507912159,0.0457286536693573,0.04609958827495575,0.04279240220785141,0.041090041399002075,0.043490536510944366,0.042384225875139236,0.042601604014635086,0.04257236048579216,0.04199243709445,0.044199392199516296,0.043267421424388885,0.044327132403850555,0.039924152195453644,0.04424095153808594,0.040708087384700775,0.04664083570241928,0.03984232619404793,0.043719060719013214,0.04304654151201248,0.043736834079027176,0.04605329781770706,0.04288569837808609,0.043326131999492645,0.04370954632759094,0.04250869154930115,0.046036504209041595,0.04306701943278313,0.04213922843337059,0.04425470158457756,0.042978666722774506,0.0431135818362236,0.044937483966350555,0.042462307959795,0.04357000067830086,0.04375803470611572,0.0422329343855381,0.0430157296359539,0.04303527623414993,0.04310799762606621,0.04281823709607124,0.0430457666516304,0.04282977059483528,0.0426856093108654,0.04324522241950035,0.04285721480846405,0.04293246939778328,0.04337602108716965,0.0427822582423687,0.042954348027706146,0.04305676743388176,0.042883485555648804,0.04301518201828003,0.04295165464282036,0.042934879660606384,0.04292336851358414,0.04291762411594391,0.043025046586990356,0.04293953627347946,0.04294583946466446,0.04307294636964798,0.04288741201162338,0.0429251603782177,0.04302060604095459,0.042867373675107956,0.042948342859745026,0.04301877319812775,0.04289523884654045,0.04292694479227066,0.04296894744038582,0.04290812090039253,0.04292867332696915,0.042973678559064865,0.04292793199419975,0.04294443503022194,0.042964328080415726,0.04292268678545952,0.04292978718876839,0.04296896606683731,0.042938072234392166,0.04292844980955124,0.04296142980456352,0.04295551776885986,0.0429287850856781,0.042941685765981674,0.042958814650774,0.042947422713041306,0.0429358072578907,0.04294591024518013,0.04294752702116966,0.04294200986623764,0.04294290393590927,0.042947571724653244,0.04294552281498909,0.042941927909851074,0.042944151908159256,0.0429486446082592,0.0429479256272316,0.0429435670375824,0.042943138629198074,0.042949553579092026,0.04295384883880615,0.04295092076063156,0.0429452545940876,0.042944569140672684,0.04294886440038681,0.04295220971107483,0.042951103299856186,0.04294643923640251,0.042943548411130905,0.04294509068131447,0.042948849499225616,0.042951345443725586,0.04295123741030693,0.04294930770993233,0.04294774681329727,0.04294777661561966,0.04294911399483681,0.04295066371560097,0.04295145720243454,0.042951129376888275,0.042950209230184555,0.04294931888580322,0.04294896870851517,0.042949188500642776,0.04294959455728531,0.04295005649328232,0.0429503433406353,0.04295039549469948,0.042950280010700226,0.04295015335083008,0.042950015515089035,0.042949967086315155,0.04295007139444351,0.042950235307216644,0.04295039921998978,0.04295053333044052,0.04295063763856888,0.042950667440891266,0.04295070841908455,0.042950697243213654,0.042950697243213654,0.042950667440891266,0.04295065253973007,0.042950671166181564,0.04295067489147186,0.042950671166181564,0.042950693517923355,0.04295068606734276,0.04295068979263306,0.042950645089149475,0.042950697243213654,0.042950697243213654,0.04295067861676216,0.04295066371560097,0.042950622737407684,0.042950574308633804,0.0429505817592144,0.0429505929350853,0.042950589209795,0.0429505929350853,0.0429505929350853],\"yaxis\":\"y\",\"type\":\"scatter\"}],                        {\"template\":{\"data\":{\"bar\":[{\"error_x\":{\"color\":\"#2a3f5f\"},\"error_y\":{\"color\":\"#2a3f5f\"},\"marker\":{\"line\":{\"color\":\"#E5ECF6\",\"width\":0.5},\"pattern\":{\"fillmode\":\"overlay\",\"size\":10,\"solidity\":0.2}},\"type\":\"bar\"}],\"barpolar\":[{\"marker\":{\"line\":{\"color\":\"#E5ECF6\",\"width\":0.5},\"pattern\":{\"fillmode\":\"overlay\",\"size\":10,\"solidity\":0.2}},\"type\":\"barpolar\"}],\"carpet\":[{\"aaxis\":{\"endlinecolor\":\"#2a3f5f\",\"gridcolor\":\"white\",\"linecolor\":\"white\",\"minorgridcolor\":\"white\",\"startlinecolor\":\"#2a3f5f\"},\"baxis\":{\"endlinecolor\":\"#2a3f5f\",\"gridcolor\":\"white\",\"linecolor\":\"white\",\"minorgridcolor\":\"white\",\"startlinecolor\":\"#2a3f5f\"},\"type\":\"carpet\"}],\"choropleth\":[{\"colorbar\":{\"outlinewidth\":0,\"ticks\":\"\"},\"type\":\"choropleth\"}],\"contour\":[{\"colorbar\":{\"outlinewidth\":0,\"ticks\":\"\"},\"colorscale\":[[0.0,\"#0d0887\"],[0.1111111111111111,\"#46039f\"],[0.2222222222222222,\"#7201a8\"],[0.3333333333333333,\"#9c179e\"],[0.4444444444444444,\"#bd3786\"],[0.5555555555555556,\"#d8576b\"],[0.6666666666666666,\"#ed7953\"],[0.7777777777777778,\"#fb9f3a\"],[0.8888888888888888,\"#fdca26\"],[1.0,\"#f0f921\"]],\"type\":\"contour\"}],\"contourcarpet\":[{\"colorbar\":{\"outlinewidth\":0,\"ticks\":\"\"},\"type\":\"contourcarpet\"}],\"heatmap\":[{\"colorbar\":{\"outlinewidth\":0,\"ticks\":\"\"},\"colorscale\":[[0.0,\"#0d0887\"],[0.1111111111111111,\"#46039f\"],[0.2222222222222222,\"#7201a8\"],[0.3333333333333333,\"#9c179e\"],[0.4444444444444444,\"#bd3786\"],[0.5555555555555556,\"#d8576b\"],[0.6666666666666666,\"#ed7953\"],[0.7777777777777778,\"#fb9f3a\"],[0.8888888888888888,\"#fdca26\"],[1.0,\"#f0f921\"]],\"type\":\"heatmap\"}],\"heatmapgl\":[{\"colorbar\":{\"outlinewidth\":0,\"ticks\":\"\"},\"colorscale\":[[0.0,\"#0d0887\"],[0.1111111111111111,\"#46039f\"],[0.2222222222222222,\"#7201a8\"],[0.3333333333333333,\"#9c179e\"],[0.4444444444444444,\"#bd3786\"],[0.5555555555555556,\"#d8576b\"],[0.6666666666666666,\"#ed7953\"],[0.7777777777777778,\"#fb9f3a\"],[0.8888888888888888,\"#fdca26\"],[1.0,\"#f0f921\"]],\"type\":\"heatmapgl\"}],\"histogram\":[{\"marker\":{\"pattern\":{\"fillmode\":\"overlay\",\"size\":10,\"solidity\":0.2}},\"type\":\"histogram\"}],\"histogram2d\":[{\"colorbar\":{\"outlinewidth\":0,\"ticks\":\"\"},\"colorscale\":[[0.0,\"#0d0887\"],[0.1111111111111111,\"#46039f\"],[0.2222222222222222,\"#7201a8\"],[0.3333333333333333,\"#9c179e\"],[0.4444444444444444,\"#bd3786\"],[0.5555555555555556,\"#d8576b\"],[0.6666666666666666,\"#ed7953\"],[0.7777777777777778,\"#fb9f3a\"],[0.8888888888888888,\"#fdca26\"],[1.0,\"#f0f921\"]],\"type\":\"histogram2d\"}],\"histogram2dcontour\":[{\"colorbar\":{\"outlinewidth\":0,\"ticks\":\"\"},\"colorscale\":[[0.0,\"#0d0887\"],[0.1111111111111111,\"#46039f\"],[0.2222222222222222,\"#7201a8\"],[0.3333333333333333,\"#9c179e\"],[0.4444444444444444,\"#bd3786\"],[0.5555555555555556,\"#d8576b\"],[0.6666666666666666,\"#ed7953\"],[0.7777777777777778,\"#fb9f3a\"],[0.8888888888888888,\"#fdca26\"],[1.0,\"#f0f921\"]],\"type\":\"histogram2dcontour\"}],\"mesh3d\":[{\"colorbar\":{\"outlinewidth\":0,\"ticks\":\"\"},\"type\":\"mesh3d\"}],\"parcoords\":[{\"line\":{\"colorbar\":{\"outlinewidth\":0,\"ticks\":\"\"}},\"type\":\"parcoords\"}],\"pie\":[{\"automargin\":true,\"type\":\"pie\"}],\"scatter\":[{\"marker\":{\"colorbar\":{\"outlinewidth\":0,\"ticks\":\"\"}},\"type\":\"scatter\"}],\"scatter3d\":[{\"line\":{\"colorbar\":{\"outlinewidth\":0,\"ticks\":\"\"}},\"marker\":{\"colorbar\":{\"outlinewidth\":0,\"ticks\":\"\"}},\"type\":\"scatter3d\"}],\"scattercarpet\":[{\"marker\":{\"colorbar\":{\"outlinewidth\":0,\"ticks\":\"\"}},\"type\":\"scattercarpet\"}],\"scattergeo\":[{\"marker\":{\"colorbar\":{\"outlinewidth\":0,\"ticks\":\"\"}},\"type\":\"scattergeo\"}],\"scattergl\":[{\"marker\":{\"colorbar\":{\"outlinewidth\":0,\"ticks\":\"\"}},\"type\":\"scattergl\"}],\"scattermapbox\":[{\"marker\":{\"colorbar\":{\"outlinewidth\":0,\"ticks\":\"\"}},\"type\":\"scattermapbox\"}],\"scatterpolar\":[{\"marker\":{\"colorbar\":{\"outlinewidth\":0,\"ticks\":\"\"}},\"type\":\"scatterpolar\"}],\"scatterpolargl\":[{\"marker\":{\"colorbar\":{\"outlinewidth\":0,\"ticks\":\"\"}},\"type\":\"scatterpolargl\"}],\"scatterternary\":[{\"marker\":{\"colorbar\":{\"outlinewidth\":0,\"ticks\":\"\"}},\"type\":\"scatterternary\"}],\"surface\":[{\"colorbar\":{\"outlinewidth\":0,\"ticks\":\"\"},\"colorscale\":[[0.0,\"#0d0887\"],[0.1111111111111111,\"#46039f\"],[0.2222222222222222,\"#7201a8\"],[0.3333333333333333,\"#9c179e\"],[0.4444444444444444,\"#bd3786\"],[0.5555555555555556,\"#d8576b\"],[0.6666666666666666,\"#ed7953\"],[0.7777777777777778,\"#fb9f3a\"],[0.8888888888888888,\"#fdca26\"],[1.0,\"#f0f921\"]],\"type\":\"surface\"}],\"table\":[{\"cells\":{\"fill\":{\"color\":\"#EBF0F8\"},\"line\":{\"color\":\"white\"}},\"header\":{\"fill\":{\"color\":\"#C8D4E3\"},\"line\":{\"color\":\"white\"}},\"type\":\"table\"}]},\"layout\":{\"annotationdefaults\":{\"arrowcolor\":\"#2a3f5f\",\"arrowhead\":0,\"arrowwidth\":1},\"autotypenumbers\":\"strict\",\"coloraxis\":{\"colorbar\":{\"outlinewidth\":0,\"ticks\":\"\"}},\"colorscale\":{\"diverging\":[[0,\"#8e0152\"],[0.1,\"#c51b7d\"],[0.2,\"#de77ae\"],[0.3,\"#f1b6da\"],[0.4,\"#fde0ef\"],[0.5,\"#f7f7f7\"],[0.6,\"#e6f5d0\"],[0.7,\"#b8e186\"],[0.8,\"#7fbc41\"],[0.9,\"#4d9221\"],[1,\"#276419\"]],\"sequential\":[[0.0,\"#0d0887\"],[0.1111111111111111,\"#46039f\"],[0.2222222222222222,\"#7201a8\"],[0.3333333333333333,\"#9c179e\"],[0.4444444444444444,\"#bd3786\"],[0.5555555555555556,\"#d8576b\"],[0.6666666666666666,\"#ed7953\"],[0.7777777777777778,\"#fb9f3a\"],[0.8888888888888888,\"#fdca26\"],[1.0,\"#f0f921\"]],\"sequentialminus\":[[0.0,\"#0d0887\"],[0.1111111111111111,\"#46039f\"],[0.2222222222222222,\"#7201a8\"],[0.3333333333333333,\"#9c179e\"],[0.4444444444444444,\"#bd3786\"],[0.5555555555555556,\"#d8576b\"],[0.6666666666666666,\"#ed7953\"],[0.7777777777777778,\"#fb9f3a\"],[0.8888888888888888,\"#fdca26\"],[1.0,\"#f0f921\"]]},\"colorway\":[\"#636efa\",\"#EF553B\",\"#00cc96\",\"#ab63fa\",\"#FFA15A\",\"#19d3f3\",\"#FF6692\",\"#B6E880\",\"#FF97FF\",\"#FECB52\"],\"font\":{\"color\":\"#2a3f5f\"},\"geo\":{\"bgcolor\":\"white\",\"lakecolor\":\"white\",\"landcolor\":\"#E5ECF6\",\"showlakes\":true,\"showland\":true,\"subunitcolor\":\"white\"},\"hoverlabel\":{\"align\":\"left\"},\"hovermode\":\"closest\",\"mapbox\":{\"style\":\"light\"},\"paper_bgcolor\":\"white\",\"plot_bgcolor\":\"#E5ECF6\",\"polar\":{\"angularaxis\":{\"gridcolor\":\"white\",\"linecolor\":\"white\",\"ticks\":\"\"},\"bgcolor\":\"#E5ECF6\",\"radialaxis\":{\"gridcolor\":\"white\",\"linecolor\":\"white\",\"ticks\":\"\"}},\"scene\":{\"xaxis\":{\"backgroundcolor\":\"#E5ECF6\",\"gridcolor\":\"white\",\"gridwidth\":2,\"linecolor\":\"white\",\"showbackground\":true,\"ticks\":\"\",\"zerolinecolor\":\"white\"},\"yaxis\":{\"backgroundcolor\":\"#E5ECF6\",\"gridcolor\":\"white\",\"gridwidth\":2,\"linecolor\":\"white\",\"showbackground\":true,\"ticks\":\"\",\"zerolinecolor\":\"white\"},\"zaxis\":{\"backgroundcolor\":\"#E5ECF6\",\"gridcolor\":\"white\",\"gridwidth\":2,\"linecolor\":\"white\",\"showbackground\":true,\"ticks\":\"\",\"zerolinecolor\":\"white\"}},\"shapedefaults\":{\"line\":{\"color\":\"#2a3f5f\"}},\"ternary\":{\"aaxis\":{\"gridcolor\":\"white\",\"linecolor\":\"white\",\"ticks\":\"\"},\"baxis\":{\"gridcolor\":\"white\",\"linecolor\":\"white\",\"ticks\":\"\"},\"bgcolor\":\"#E5ECF6\",\"caxis\":{\"gridcolor\":\"white\",\"linecolor\":\"white\",\"ticks\":\"\"}},\"title\":{\"x\":0.05},\"xaxis\":{\"automargin\":true,\"gridcolor\":\"white\",\"linecolor\":\"white\",\"ticks\":\"\",\"title\":{\"standoff\":15},\"zerolinecolor\":\"white\",\"zerolinewidth\":2},\"yaxis\":{\"automargin\":true,\"gridcolor\":\"white\",\"linecolor\":\"white\",\"ticks\":\"\",\"title\":{\"standoff\":15},\"zerolinecolor\":\"white\",\"zerolinewidth\":2}}},\"xaxis\":{\"anchor\":\"y\",\"domain\":[0.0,1.0],\"title\":{\"text\":\"index\"}},\"yaxis\":{\"anchor\":\"x\",\"domain\":[0.0,1.0],\"title\":{\"text\":\"value\"}},\"legend\":{\"title\":{\"text\":\"variable\"},\"tracegroupgap\":0},\"margin\":{\"t\":60},\"height\":400,\"width\":800},                        {\"responsive\": true}                    ).then(function(){\n",
              "                            \n",
              "var gd = document.getElementById('c8690596-c84d-446c-9b76-fe7e1e509fdc');\n",
              "var x = new MutationObserver(function (mutations, observer) {{\n",
              "        var display = window.getComputedStyle(gd).display;\n",
              "        if (!display || display === 'none') {{\n",
              "            console.log([gd, 'removed!']);\n",
              "            Plotly.purge(gd);\n",
              "            observer.disconnect();\n",
              "        }}\n",
              "}});\n",
              "\n",
              "// Listen for the removal of the full notebook cells\n",
              "var notebookContainer = gd.closest('#notebook-container');\n",
              "if (notebookContainer) {{\n",
              "    x.observe(notebookContainer, {childList: true});\n",
              "}}\n",
              "\n",
              "// Listen for the clearing of the current output cell\n",
              "var outputEl = gd.closest('.output');\n",
              "if (outputEl) {{\n",
              "    x.observe(outputEl, {childList: true});\n",
              "}}\n",
              "\n",
              "                        })                };                            </script>        </div>\n",
              "</body>\n",
              "</html>"
            ]
          },
          "metadata": {}
        }
      ],
      "source": [
        "#학습 선 그래프 생성\n",
        "px.line(metrics, y=['MAE', 'MAE_val'], width=800, height=400)"
      ]
    },
    {
      "cell_type": "markdown",
      "metadata": {
        "id": "jSJVcuAQV0c6"
      },
      "source": [
        "# 시각화 검증"
      ]
    },
    {
      "cell_type": "code",
      "execution_count": null,
      "metadata": {
        "colab": {
          "base_uri": "https://localhost:8080/",
          "height": 441
        },
        "id": "1A_AJa84N5_h",
        "outputId": "11cdf0f2-d027-4928-81af-a0b0fc062850"
      },
      "outputs": [
        {
          "output_type": "display_data",
          "data": {
            "text/plain": [
              "<Figure size 720x432 with 1 Axes>"
            ],
            "image/png": "[encoded data removed]"
          },
          "metadata": {}
        }
      ],
      "source": [
        "#yhat1과 실제값 시각화\n",
        "forecast = m.predict(test)\n",
        "fig = m.plot(forecast[['ds', 'y', 'yhat1']])"
      ]
    },
    {
      "cell_type": "code",
      "execution_count": null,
      "metadata": {
        "colab": {
          "base_uri": "https://localhost:8080/"
        },
        "id": "OqzeN3uEzgUx",
        "outputId": "cb1ffb9e-2de7-4f34-8bc3-906fbd20c48a"
      },
      "outputs": [
        {
          "output_type": "execute_result",
          "data": {
            "text/plain": [
              "(12, 85)"
            ]
          },
          "metadata": {},
          "execution_count": 86
        }
      ],
      "source": [
        "#예측 결과 데이터 shape\n",
        "forecast.shape"
      ]
    },
    {
      "cell_type": "code",
      "execution_count": null,
      "metadata": {
        "colab": {
          "base_uri": "https://localhost:8080/",
          "height": 386
        },
        "id": "b4Jxf5iklSGR",
        "outputId": "7849e475-ccf5-4e83-e6a7-046c8d3cef17"
      },
      "outputs": [
        {
          "output_type": "execute_result",
          "data": {
            "text/plain": [
              "           ds         y residual1     yhat1 residual2     yhat2 residual3  \\\n",
              "7  2022-05-01  0.077521  0.123637  0.201157 -0.004476  0.073045 -0.134112   \n",
              "8  2022-06-01  0.088289  0.061833  0.150121  0.039449  0.127738  -0.05464   \n",
              "9  2022-07-01  0.076199 -0.175524 -0.099325 -0.116304 -0.040105 -0.213359   \n",
              "10 2022-08-01  0.100647  -0.15203 -0.051383 -0.115009 -0.014362 -0.187235   \n",
              "11 2022-09-01  0.083335 -0.032642  0.050693 -0.032151  0.051184 -0.218825   \n",
              "\n",
              "       yhat3 residual4     yhat4  ... lagged_regressor_y_diff4  \\\n",
              "7  -0.056592 -0.030153  0.047367  ...                 0.013216   \n",
              "8   0.033649   0.39635  0.484639  ...                 0.059493   \n",
              "9  -0.137159  0.304129  0.380329  ...                 0.040971   \n",
              "10 -0.086588  0.072264  0.172911  ...                 0.059284   \n",
              "11 -0.135489 -0.078194  0.005141  ...                 0.050928   \n",
              "\n",
              "   lagged_regressor_y_diff5 lagged_regressor_y_diff6 lagged_regressor_y_diff7  \\\n",
              "7                  0.010498                 0.132457                 0.004026   \n",
              "8                  0.002318                 0.094085                 0.024797   \n",
              "9                  0.010437                 0.020777                 0.017613   \n",
              "10                 0.007187                 0.093534                  0.00389   \n",
              "11                   0.0104                 0.064414                  0.01751   \n",
              "\n",
              "   lagged_regressor_y_diff8 lagged_regressor_y_diff9  \\\n",
              "7                      None                     None   \n",
              "8                  0.002492                     None   \n",
              "9                  0.015349                 0.016077   \n",
              "10                 0.010902                 0.099031   \n",
              "11                 0.002408                 0.070343   \n",
              "\n",
              "   lagged_regressor_y_diff10     trend season_yearly season_monthly  \n",
              "7                       None  0.092955     -0.091653       0.020639  \n",
              "8                       None  0.094515     -0.033754       0.022989  \n",
              "9                       None  0.096024     -0.196998       0.020639  \n",
              "10                  0.033653  0.097584      -0.14924       0.022989  \n",
              "11                  0.207295  0.099144     -0.071792       0.010712  \n",
              "\n",
              "[5 rows x 85 columns]"
            ],
            "text/html": [
              "\n",
              "  <div id=\"df-adc54101-2617-47a5-833b-c38e485381c1\">\n",
              "    <div class=\"colab-df-container\">\n",
              "      <div>\n",
              "<style scoped>\n",
              "    .dataframe tbody tr th:only-of-type {\n",
              "        vertical-align: middle;\n",
              "    }\n",
              "\n",
              "    .dataframe tbody tr th {\n",
              "        vertical-align: top;\n",
              "    }\n",
              "\n",
              "    .dataframe thead th {\n",
              "        text-align: right;\n",
              "    }\n",
              "</style>\n",
              "<table border=\"1\" class=\"dataframe\">\n",
              "  <thead>\n",
              "    <tr style=\"text-align: right;\">\n",
              "      <th></th>\n",
              "      <th>ds</th>\n",
              "      <th>y</th>\n",
              "      <th>residual1</th>\n",
              "      <th>yhat1</th>\n",
              "      <th>residual2</th>\n",
              "      <th>yhat2</th>\n",
              "      <th>residual3</th>\n",
              "      <th>yhat3</th>\n",
              "      <th>residual4</th>\n",
              "      <th>yhat4</th>\n",
              "      <th>...</th>\n",
              "      <th>lagged_regressor_y_diff4</th>\n",
              "      <th>lagged_regressor_y_diff5</th>\n",
              "      <th>lagged_regressor_y_diff6</th>\n",
              "      <th>lagged_regressor_y_diff7</th>\n",
              "      <th>lagged_regressor_y_diff8</th>\n",
              "      <th>lagged_regressor_y_diff9</th>\n",
              "      <th>lagged_regressor_y_diff10</th>\n",
              "      <th>trend</th>\n",
              "      <th>season_yearly</th>\n",
              "      <th>season_monthly</th>\n",
              "    </tr>\n",
              "  </thead>\n",
              "  <tbody>\n",
              "    <tr>\n",
              "      <th>7</th>\n",
              "      <td>2022-05-01</td>\n",
              "      <td>0.077521</td>\n",
              "      <td>0.123637</td>\n",
              "      <td>0.201157</td>\n",
              "      <td>-0.004476</td>\n",
              "      <td>0.073045</td>\n",
              "      <td>-0.134112</td>\n",
              "      <td>-0.056592</td>\n",
              "      <td>-0.030153</td>\n",
              "      <td>0.047367</td>\n",
              "      <td>...</td>\n",
              "      <td>0.013216</td>\n",
              "      <td>0.010498</td>\n",
              "      <td>0.132457</td>\n",
              "      <td>0.004026</td>\n",
              "      <td>None</td>\n",
              "      <td>None</td>\n",
              "      <td>None</td>\n",
              "      <td>0.092955</td>\n",
              "      <td>-0.091653</td>\n",
              "      <td>0.020639</td>\n",
              "    </tr>\n",
              "    <tr>\n",
              "      <th>8</th>\n",
              "      <td>2022-06-01</td>\n",
              "      <td>0.088289</td>\n",
              "      <td>0.061833</td>\n",
              "      <td>0.150121</td>\n",
              "      <td>0.039449</td>\n",
              "      <td>0.127738</td>\n",
              "      <td>-0.05464</td>\n",
              "      <td>0.033649</td>\n",
              "      <td>0.39635</td>\n",
              "      <td>0.484639</td>\n",
              "      <td>...</td>\n",
              "      <td>0.059493</td>\n",
              "      <td>0.002318</td>\n",
              "      <td>0.094085</td>\n",
              "      <td>0.024797</td>\n",
              "      <td>0.002492</td>\n",
              "      <td>None</td>\n",
              "      <td>None</td>\n",
              "      <td>0.094515</td>\n",
              "      <td>-0.033754</td>\n",
              "      <td>0.022989</td>\n",
              "    </tr>\n",
              "    <tr>\n",
              "      <th>9</th>\n",
              "      <td>2022-07-01</td>\n",
              "      <td>0.076199</td>\n",
              "      <td>-0.175524</td>\n",
              "      <td>-0.099325</td>\n",
              "      <td>-0.116304</td>\n",
              "      <td>-0.040105</td>\n",
              "      <td>-0.213359</td>\n",
              "      <td>-0.137159</td>\n",
              "      <td>0.304129</td>\n",
              "      <td>0.380329</td>\n",
              "      <td>...</td>\n",
              "      <td>0.040971</td>\n",
              "      <td>0.010437</td>\n",
              "      <td>0.020777</td>\n",
              "      <td>0.017613</td>\n",
              "      <td>0.015349</td>\n",
              "      <td>0.016077</td>\n",
              "      <td>None</td>\n",
              "      <td>0.096024</td>\n",
              "      <td>-0.196998</td>\n",
              "      <td>0.020639</td>\n",
              "    </tr>\n",
              "    <tr>\n",
              "      <th>10</th>\n",
              "      <td>2022-08-01</td>\n",
              "      <td>0.100647</td>\n",
              "      <td>-0.15203</td>\n",
              "      <td>-0.051383</td>\n",
              "      <td>-0.115009</td>\n",
              "      <td>-0.014362</td>\n",
              "      <td>-0.187235</td>\n",
              "      <td>-0.086588</td>\n",
              "      <td>0.072264</td>\n",
              "      <td>0.172911</td>\n",
              "      <td>...</td>\n",
              "      <td>0.059284</td>\n",
              "      <td>0.007187</td>\n",
              "      <td>0.093534</td>\n",
              "      <td>0.00389</td>\n",
              "      <td>0.010902</td>\n",
              "      <td>0.099031</td>\n",
              "      <td>0.033653</td>\n",
              "      <td>0.097584</td>\n",
              "      <td>-0.14924</td>\n",
              "      <td>0.022989</td>\n",
              "    </tr>\n",
              "    <tr>\n",
              "      <th>11</th>\n",
              "      <td>2022-09-01</td>\n",
              "      <td>0.083335</td>\n",
              "      <td>-0.032642</td>\n",
              "      <td>0.050693</td>\n",
              "      <td>-0.032151</td>\n",
              "      <td>0.051184</td>\n",
              "      <td>-0.218825</td>\n",
              "      <td>-0.135489</td>\n",
              "      <td>-0.078194</td>\n",
              "      <td>0.005141</td>\n",
              "      <td>...</td>\n",
              "      <td>0.050928</td>\n",
              "      <td>0.0104</td>\n",
              "      <td>0.064414</td>\n",
              "      <td>0.01751</td>\n",
              "      <td>0.002408</td>\n",
              "      <td>0.070343</td>\n",
              "      <td>0.207295</td>\n",
              "      <td>0.099144</td>\n",
              "      <td>-0.071792</td>\n",
              "      <td>0.010712</td>\n",
              "    </tr>\n",
              "  </tbody>\n",
              "</table>\n",
              "<p>5 rows × 85 columns</p>\n",
              "</div>\n",
              "      <button class=\"colab-df-convert\" onclick=\"convertToInteractive('df-adc54101-2617-47a5-833b-c38e485381c1')\"\n",
              "              title=\"Convert this dataframe to an interactive table.\"\n",
              "              style=\"display:none;\">\n",
              "        \n",
              "  <svg xmlns=\"http://www.w3.org/2000/svg\" height=\"24px\"viewBox=\"0 0 24 24\"\n",
              "       width=\"24px\">\n",
              "    <path d=\"M0 0h24v24H0V0z\" fill=\"none\"/>\n",
              "    <path d=\"M18.56 5.44l.94 2.06.94-2.06 2.06-.94-2.06-.94-.94-2.06-.94 2.06-2.06.94zm-11 1L8.5 8.5l.94-2.06 2.06-.94-2.06-.94L8.5 2.5l-.94 2.06-2.06.94zm10 10l.94 2.06.94-2.06 2.06-.94-2.06-.94-.94-2.06-.94 2.06-2.06.94z\"/><path d=\"M17.41 7.96l-1.37-1.37c-.4-.4-.92-.59-1.43-.59-.52 0-1.04.2-1.43.59L10.3 9.45l-7.72 7.72c-.78.78-.78 2.05 0 2.83L4 21.41c.39.39.9.59 1.41.59.51 0 1.02-.2 1.41-.59l7.78-7.78 2.81-2.81c.8-.78.8-2.07 0-2.86zM5.41 20L4 18.59l7.72-7.72 1.47 1.35L5.41 20z\"/>\n",
              "  </svg>\n",
              "      </button>\n",
              "      \n",
              "  <style>\n",
              "    .colab-df-container {\n",
              "      display:flex;\n",
              "      flex-wrap:wrap;\n",
              "      gap: 12px;\n",
              "    }\n",
              "\n",
              "    .colab-df-convert {\n",
              "      background-color: #E8F0FE;\n",
              "      border: none;\n",
              "      border-radius: 50%;\n",
              "      cursor: pointer;\n",
              "      display: none;\n",
              "      fill: #1967D2;\n",
              "      height: 32px;\n",
              "      padding: 0 0 0 0;\n",
              "      width: 32px;\n",
              "    }\n",
              "\n",
              "    .colab-df-convert:hover {\n",
              "      background-color: #E2EBFA;\n",
              "      box-shadow: 0px 1px 2px rgba(60, 64, 67, 0.3), 0px 1px 3px 1px rgba(60, 64, 67, 0.15);\n",
              "      fill: #174EA6;\n",
              "    }\n",
              "\n",
              "    [theme=dark] .colab-df-convert {\n",
              "      background-color: #3B4455;\n",
              "      fill: #D2E3FC;\n",
              "    }\n",
              "\n",
              "    [theme=dark] .colab-df-convert:hover {\n",
              "      background-color: #434B5C;\n",
              "      box-shadow: 0px 1px 3px 1px rgba(0, 0, 0, 0.15);\n",
              "      filter: drop-shadow(0px 1px 2px rgba(0, 0, 0, 0.3));\n",
              "      fill: #FFFFFF;\n",
              "    }\n",
              "  </style>\n",
              "\n",
              "      <script>\n",
              "        const buttonEl =\n",
              "          document.querySelector('#df-adc54101-2617-47a5-833b-c38e485381c1 button.colab-df-convert');\n",
              "        buttonEl.style.display =\n",
              "          google.colab.kernel.accessAllowed ? 'block' : 'none';\n",
              "\n",
              "        async function convertToInteractive(key) {\n",
              "          const element = document.querySelector('#df-adc54101-2617-47a5-833b-c38e485381c1');\n",
              "          const dataTable =\n",
              "            await google.colab.kernel.invokeFunction('convertToInteractive',\n",
              "                                                     [key], {});\n",
              "          if (!dataTable) return;\n",
              "\n",
              "          const docLinkHtml = 'Like what you see? Visit the ' +\n",
              "            '<a target=\"_blank\" href=https://colab.research.google.com/notebooks/data_table.ipynb>data table notebook</a>'\n",
              "            + ' to learn more about interactive tables.';\n",
              "          element.innerHTML = '';\n",
              "          dataTable['output_type'] = 'display_data';\n",
              "          await google.colab.output.renderOutput(dataTable, element);\n",
              "          const docLink = document.createElement('div');\n",
              "          docLink.innerHTML = docLinkHtml;\n",
              "          element.appendChild(docLink);\n",
              "        }\n",
              "      </script>\n",
              "    </div>\n",
              "  </div>\n",
              "  "
            ]
          },
          "metadata": {},
          "execution_count": 87
        }
      ],
      "source": [
        "forecast.tail()"
      ]
    },
    {
      "cell_type": "code",
      "execution_count": null,
      "metadata": {
        "id": "H9CEQ-y_9SIe"
      },
      "outputs": [],
      "source": [
        "#예측 결과 확인\n",
        "forecast.to_excel('예측2.xlsx')"
      ]
    },
    {
      "cell_type": "code",
      "execution_count": null,
      "metadata": {
        "id": "pQumL-f7yqao"
      },
      "outputs": [],
      "source": [
        "#잔차분석\n"
      ]
    },
    {
      "cell_type": "code",
      "execution_count": null,
      "metadata": {
        "colab": {
          "base_uri": "https://localhost:8080/",
          "height": 441
        },
        "id": "_4lg1woCTCBz",
        "outputId": "34883091-13ff-410c-f4c2-88bd20ca6966"
      },
      "outputs": [
        {
          "output_type": "display_data",
          "data": {
            "text/plain": [
              "<Figure size 720x432 with 1 Axes>"
            ],
            "image/png": "[encoded data removed]"
          },
          "metadata": {}
        }
      ],
      "source": [
        "forecast = m.predict(test)\n",
        "m = m.highlight_nth_step_ahead_of_each_forecast(1)\n",
        "fig = m.plot(forecast[-11:]) #1년간 데이터 확인"
      ]
    },
    {
      "cell_type": "code",
      "execution_count": null,
      "metadata": {
        "colab": {
          "base_uri": "https://localhost:8080/",
          "height": 441
        },
        "id": "y7ntSaBr1J7F",
        "outputId": "8b1a3394-f7fd-4a21-fa14-a4777a6141d9"
      },
      "outputs": [
        {
          "output_type": "display_data",
          "data": {
            "text/plain": [
              "<Figure size 720x432 with 1 Axes>"
            ],
            "image/png": "[encoded data removed]"
          },
          "metadata": {}
        }
      ],
      "source": [
        "future = m.make_future_dataframe(train, periods=15, n_historic_predictions=len(train))\n",
        "forecast = m.predict(future)\n",
        "fig_forecast = m.plot(forecast)"
      ]
    },
    {
      "cell_type": "code",
      "execution_count": null,
      "metadata": {
        "id": "JfolCz854bf5"
      },
      "outputs": [],
      "source": []
    }
  ],
  "metadata": {
    "accelerator": "GPU",
    "colab": {
      "machine_shape": "hm",
      "provenance": []
    },
    "kernelspec": {
      "display_name": "Python 3",
      "name": "python3"
    },
    "language_info": {
      "name": "python"
    }
  },
  "nbformat": 4,
  "nbformat_minor": 0
}